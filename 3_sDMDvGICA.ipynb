{
 "cells": [
  {
   "cell_type": "code",
   "execution_count": 1,
   "metadata": {},
   "outputs": [
    {
     "name": "stderr",
     "output_type": "stream",
     "text": [
      "/usr/local/lib/python2.7/dist-packages/h5py/__init__.py:34: FutureWarning: Conversion of the second argument of issubdtype from `float` to `np.floating` is deprecated. In future, it will be treated as `np.float64 == np.dtype(float).type`.\n",
      "  from ._conv import register_converters as _register_converters\n"
     ]
    }
   ],
   "source": [
    "import numpy as np\n",
    "from DMD import DMD\n",
    "import matplotlib as mpl\n",
    "import matplotlib.pyplot as plt\n",
    "import os,time,sys\n",
    "import h5py\n",
    "import scipy as sci\n",
    "import scipy.spatial.distance as ssd\n",
    "import parseCIFTI as pC\n",
    "from glob import glob\n",
    "import h5py\n",
    "import copy\n",
    "from tqdm import tqdm_notebook as tqdm\n",
    "from sklearn.decomposition import FastICA\n",
    "\n",
    "#import utility functions. Notably includes:\n",
    "#'binCortexData(x,nb=40)': take array of grayordinate data and convert to (flattened) binned space (split into nb bins)\n",
    "#'flat2mat(x)': take flattened, binned vector and convert to matrix for visualization\n",
    "#'mat2flat(x)': take matrix and convert to flat\n",
    "#'initR()': \"R\" is a necessary global variable which gets defined in the above functions, this is a workaround to make sure it's defined; this should be changed\n",
    "from hcp_dmd_utils import *\n",
    "initR()\n",
    "\n",
    "%matplotlib inline"
   ]
  },
  {
   "cell_type": "markdown",
   "metadata": {},
   "source": [
    "# Load gICA Modes"
   ]
  },
  {
   "cell_type": "code",
   "execution_count": 2,
   "metadata": {},
   "outputs": [
    {
     "name": "stderr",
     "output_type": "stream",
     "text": [
      "100%|██████████| 120/120 [00:04<00:00, 24.33it/s]\n"
     ]
    }
   ],
   "source": [
    "import nibabel as nib\n",
    "import copy\n",
    "from tqdm import tqdm\n",
    "dL,dR,idx,scb,scl=pC.parseCoords()\n",
    "nSC=dL.shape[0]+dR.shape[0]\n",
    "u120=np.genfromtxt('./u120.txt').astype(int).astype(str)\n",
    "ulist=u120\n",
    "\n",
    "fdir='/hdd/HCP_DMD/HCP_DMD/ICA/3T_HCP1200_MSMAll_d15_ts2_Z/'\n",
    "DMN_ICA=[]\n",
    "for u in tqdm(ulist):\n",
    "    data=nib.load(fdir+'{:}.dtseries.nii'.format(u))\n",
    "    data=np.array(data.get_data())[0,0,0,0,:,:]\n",
    "    IC=binCortexData(data.T)[:,1]\n",
    "    IC=(IC-IC.mean())/IC.std()\n",
    "    DMN_ICA.append(IC)\n",
    "DMN_ICA=np.vstack(DMN_ICA)"
   ]
  },
  {
   "cell_type": "markdown",
   "metadata": {},
   "source": [
    "# Run sDMD"
   ]
  },
  {
   "cell_type": "code",
   "execution_count": null,
   "metadata": {},
   "outputs": [],
   "source": [
    "#%% EXPERIMENT TO GET BEST PARAMETERS FOR EXTRACTING DMN\n",
    "scandirs=['LR','RL']\n",
    "runlabels=['REST1','REST2']\n",
    "nmodes=8\n",
    "nframes=32\n",
    "\n",
    "\n",
    "mthresh=25\n",
    "zthresh=2.5\n",
    "min_clust_size=5\n",
    "\n",
    "zthreshes=np.linspace(1.5,3,61)\n",
    "fct_list=np.linspace(0.65,0.98,101)\n",
    "\n",
    "#zthreshes=np.linspace(2.14,2.18,3)\n",
    "#fct_list=np.linspace(0.75,0.85,41)\n",
    "\n",
    "try:\n",
    "    os.mkdir('./sDMDvGICA')\n",
    "except:\n",
    "    pass\n",
    "try:\n",
    "    os.mkdir('./sDMDvGICA/params')\n",
    "except:\n",
    "    pass\n",
    "\n",
    "with h5py.File('./RSN.h5','r') as hf:\n",
    "  RSNs=np.array(hf['RSNs'])\n",
    "  RSNlabels=np.array(hf['RSNlabels'])\n",
    "rsn=[]        \n",
    "for k in range(RSNs.shape[2]):\n",
    "  r=RSNs[:,:,k]\n",
    "  rsn.append(mat2flat(r))\n",
    "rsn=np.vstack(rsn)\n",
    "rsnNo=[3,4,9,13]\n",
    "rsn=rsn[rsnNo,:]\n",
    "rlabs=RSNlabels[rsnNo] \n",
    "\n",
    "#for uk,u in enumerate([ulist[0]]):\n",
    "for uk,u in enumerate(ulist):\n",
    "  print(u)\n",
    "  try:\n",
    "    icak=DMN_ICA[uk]\n",
    "    dmn_best=[]\n",
    "    Cor=np.zeros((len(zthreshes),len(fct_list)))\n",
    "    F=[]\n",
    "    T=[]\n",
    "    try:\n",
    "      for runlabel in runlabels:\n",
    "        for scandir in scandirs:\n",
    "          fdir='./DMD_results/nmodes{:}_nframes{:}_{:}_{:}/'.format(nmodes,nframes,runlabel,scandir)\n",
    "          with h5py.File(fdir+'Modes_{:}.h5'.format(u),'r') as hf:\n",
    "            F.append(np.array(hf['F']))\n",
    "    except:\n",
    "      pass\n",
    "      \n",
    "    \n",
    "    F=np.vstack(F)\n",
    "    \n",
    "    Mflat=(F-np.mean(F,1)[:,None])/F.std(1)[:,None]\n",
    "     \n",
    "    mpro=[]\n",
    "    for f in Mflat:\n",
    "      m=flat2mat(f>2.0).astype(float)\n",
    "      mpro.append(np.sum(np.sum(m[1:,1:]*m[:-1,:-1],0),0))\n",
    "    mpro=np.hstack(mpro) \n",
    "     \n",
    "    mwhere=mpro>mthresh\n",
    "    \n",
    "    import scipy.cluster.hierarchy as sch\n",
    "    Fz=F[mwhere,:]\n",
    "    Fz=(Fz-np.mean(Fz,1)[:,None])/np.std(Fz,1)[:,None]\n",
    "    \n",
    "    for i,zthresh in enumerate(tqdm(zthreshes)):\n",
    "      Fn=(Fz>zthresh).astype(float)\n",
    "      method='average';metric='correlation';\n",
    "      \n",
    "      Z=sch.linkage(Fn, method, metric)\n",
    "      ix=sch.dendrogram(Z,no_plot=True)['leaves']  \n",
    "      for j,fclust_thresh in enumerate(fct_list):\n",
    "        try:\n",
    "          cgroups=sch.fcluster(Z,fclust_thresh,'distance')[ix]\n",
    "          cgroups=cgroups.astype(float)\n",
    "          cun,count=np.unique(cgroups,return_counts=True)\n",
    "          for k,c in enumerate(cun):\n",
    "              if count[k]<min_clust_size:\n",
    "                  cgroups[cgroups==c]=-1\n",
    "                  \n",
    "          cgroups=np.unique(cgroups,return_inverse=True)[1].astype(float)\n",
    "          cgroups[cgroups==0]=np.nan\n",
    "          cgroups+=-1\n",
    "          \n",
    "          cif=np.isfinite(cgroups)\n",
    "          cuni=np.unique(cgroups[cif])\n",
    "          \n",
    "          cbig=np.ones(cgroups.shape)*np.nan\n",
    "          ck=-1\n",
    "          for c in cuni:\n",
    "              if np.sum(cgroups==c)>1:\n",
    "                  ck+=1\n",
    "                  cbig[cgroups==c]=ck\n",
    "          \n",
    "          glist=np.unique(cgroups[np.isnan(cgroups)==False]).astype(int)\n",
    "          \n",
    "          modes=F[mwhere][ix][cif]\n",
    "          \n",
    "          moda=[]\n",
    "          for c in cuni:\n",
    "            moc=modes[cbig[cif]==c].mean(0)\n",
    "            moc=(moc-moc.mean())/moc.std()\n",
    "            moda.append(moc)\n",
    "            \n",
    "          moda=np.vstack(moda)\n",
    "          #phasa=np.vstack(phasa)\n",
    "          \n",
    "          dmn=moda[np.argmax(np.corrcoef(rsn[0],moda)[0][1:])]\n",
    "          \n",
    "          #cscore=np.corrcoef(dmn,DMN_ICA)[0,1:][uk]\n",
    "          cscore=np.corrcoef(dmn,icak)[0][1]\n",
    "          #print '{:0.2f},{:0.2f}: correlation={:0.3f} / {:0.3f}'.format(zthresh,fclust_thresh,cscore[ui],np.mean(cscore))\n",
    "          \n",
    "          Cor[i,j]=cscore\n",
    "          \n",
    "          if cscore==Cor.max():\n",
    "            dmn_best=copy.copy(dmn)\n",
    "            fc_best=copy.copy(fclust_thresh)\n",
    "            zthresh_best=copy.copy(zthresh)\n",
    "        except:\n",
    "          pass\n",
    "\n",
    "    Db=(dmn_best-dmn_best.mean())/dmn_best.std()\n",
    "    Db=flat2mat(Db)\n",
    "    Db[Db==0]=np.nan  \n",
    "    Ik=(icak-icak.mean())/icak.std()\n",
    "    Ik=flat2mat(Ik)\n",
    "    Ik[Ik==0]=np.nan\n",
    "\n",
    "    Cpop=list(np.corrcoef(dmn_best,DMN_ICA)[0,1:])\n",
    "    Csub=Cpop.pop(uk)\n",
    "    Cpop=np.array(Cpop)\n",
    "    \n",
    "    with h5py.File('./sDMDvGICA/params/{:}.h5'.format(u),'w') as hf:\n",
    "      hf.create_dataset('Cor',data=Cor)\n",
    "      hf.create_dataset('zthreshes',data=zthreshes)\n",
    "      hf.create_dataset('fct_list',data=fct_list)\n",
    "      hf.create_dataset('mthresh',data=mthresh)\n",
    "      hf.create_dataset('Db',data=Db)\n",
    "      hf.create_dataset('Ik',data=Ik)\n",
    "      hf.create_dataset('dmn',data=dmn_best)\n",
    "      hf.create_dataset('Cpop',data=Cpop)\n",
    "      hf.create_dataset('Csub',data=Csub)\n",
    "      hf.create_dataset('uk',data=uk)\n",
    "      hf.create_dataset('fc_best',data=fc_best)\n",
    "      hf.create_dataset('zthresh_best',data=zthresh_best)\n",
    "    tqdm.write('\\n Best correlations: {:0.3f}, {:0.3f}'.format(Csub,Cpop.mean()))\n",
    "\n",
    "  except (KeyboardInterrupt, SystemExit):\n",
    "    raise\n",
    "  except:\n",
    "    raise\n",
    "    "
   ]
  },
  {
   "cell_type": "code",
   "execution_count": null,
   "metadata": {},
   "outputs": [
    {
     "name": "stderr",
     "output_type": "stream",
     "text": [
      "pixdim[1,2,3] should be non-zero; setting 0 dims to 1\n",
      "pixdim[1,2,3] should be non-zero; setting 0 dims to 1\n",
      "pixdim[1,2,3] should be non-zero; setting 0 dims to 1\n",
      "pixdim[1,2,3] should be non-zero; setting 0 dims to 1\n",
      " 67%|██████▋   | 2/3 [05:24<02:42, 162.23s/it]/usr/local/lib/python2.7/dist-packages/sklearn/decomposition/fastica_.py:116: UserWarning: FastICA did not converge. Consider increasing tolerance or the maximum number of iterations.\n",
      "  warnings.warn('FastICA did not converge. Consider increasing '\n",
      "100%|██████████| 3/3 [08:19<00:00, 165.98s/it]\n",
      "pixdim[1,2,3] should be non-zero; setting 0 dims to 1\n"
     ]
    },
    {
     "name": "stdout",
     "output_type": "stream",
     "text": [
      "102513, [8, 10, 12, 16] modes: 0.590/0.462\n",
      "Time elapsed is 501.9 seconds\n"
     ]
    },
    {
     "name": "stderr",
     "output_type": "stream",
     "text": [
      "pixdim[1,2,3] should be non-zero; setting 0 dims to 1\n",
      "pixdim[1,2,3] should be non-zero; setting 0 dims to 1\n",
      "pixdim[1,2,3] should be non-zero; setting 0 dims to 1\n",
      "100%|██████████| 3/3 [08:05<00:00, 161.98s/it]\n",
      "pixdim[1,2,3] should be non-zero; setting 0 dims to 1\n"
     ]
    },
    {
     "name": "stdout",
     "output_type": "stream",
     "text": [
      "104012, [8, 10, 12, 16] modes: 0.484/0.374\n",
      "Time elapsed is 501.0 seconds\n"
     ]
    },
    {
     "name": "stderr",
     "output_type": "stream",
     "text": [
      "pixdim[1,2,3] should be non-zero; setting 0 dims to 1\n",
      "pixdim[1,2,3] should be non-zero; setting 0 dims to 1\n",
      "pixdim[1,2,3] should be non-zero; setting 0 dims to 1\n",
      "100%|██████████| 3/3 [08:03<00:00, 161.14s/it]\n",
      "pixdim[1,2,3] should be non-zero; setting 0 dims to 1\n"
     ]
    },
    {
     "name": "stdout",
     "output_type": "stream",
     "text": [
      "104416, [8, 10, 12, 16] modes: 0.116/0.080\n",
      "Time elapsed is 499.8 seconds\n"
     ]
    },
    {
     "name": "stderr",
     "output_type": "stream",
     "text": [
      "pixdim[1,2,3] should be non-zero; setting 0 dims to 1\n",
      "pixdim[1,2,3] should be non-zero; setting 0 dims to 1\n",
      "pixdim[1,2,3] should be non-zero; setting 0 dims to 1\n",
      "100%|██████████| 3/3 [08:03<00:00, 161.04s/it]\n",
      "pixdim[1,2,3] should be non-zero; setting 0 dims to 1\n"
     ]
    },
    {
     "name": "stdout",
     "output_type": "stream",
     "text": [
      "107321, [8, 10, 12, 16] modes: 0.492/0.407\n",
      "Time elapsed is 498.8 seconds\n"
     ]
    },
    {
     "name": "stderr",
     "output_type": "stream",
     "text": [
      "pixdim[1,2,3] should be non-zero; setting 0 dims to 1\n",
      "pixdim[1,2,3] should be non-zero; setting 0 dims to 1\n",
      "pixdim[1,2,3] should be non-zero; setting 0 dims to 1\n",
      "100%|██████████| 3/3 [08:01<00:00, 160.68s/it]\n",
      "pixdim[1,2,3] should be non-zero; setting 0 dims to 1\n"
     ]
    },
    {
     "name": "stdout",
     "output_type": "stream",
     "text": [
      "107422, [8, 10, 12, 16] modes: 0.067/0.054\n",
      "Time elapsed is 497.5 seconds\n"
     ]
    },
    {
     "name": "stderr",
     "output_type": "stream",
     "text": [
      "pixdim[1,2,3] should be non-zero; setting 0 dims to 1\n",
      "pixdim[1,2,3] should be non-zero; setting 0 dims to 1\n",
      "pixdim[1,2,3] should be non-zero; setting 0 dims to 1\n",
      "100%|██████████| 3/3 [08:04<00:00, 161.68s/it]\n",
      "pixdim[1,2,3] should be non-zero; setting 0 dims to 1\n"
     ]
    },
    {
     "name": "stdout",
     "output_type": "stream",
     "text": [
      "109123, [8, 10, 12, 16] modes: 0.241/0.187\n",
      "Time elapsed is 500.3 seconds\n"
     ]
    },
    {
     "name": "stderr",
     "output_type": "stream",
     "text": [
      "pixdim[1,2,3] should be non-zero; setting 0 dims to 1\n",
      "pixdim[1,2,3] should be non-zero; setting 0 dims to 1\n",
      "pixdim[1,2,3] should be non-zero; setting 0 dims to 1\n",
      "100%|██████████| 3/3 [08:05<00:00, 161.88s/it]\n",
      "pixdim[1,2,3] should be non-zero; setting 0 dims to 1\n"
     ]
    },
    {
     "name": "stdout",
     "output_type": "stream",
     "text": [
      "112516, [8, 10, 12, 16] modes: 0.489/0.357\n",
      "Time elapsed is 501.4 seconds\n"
     ]
    },
    {
     "name": "stderr",
     "output_type": "stream",
     "text": [
      "pixdim[1,2,3] should be non-zero; setting 0 dims to 1\n",
      "pixdim[1,2,3] should be non-zero; setting 0 dims to 1\n",
      "pixdim[1,2,3] should be non-zero; setting 0 dims to 1\n",
      "100%|██████████| 3/3 [07:56<00:00, 159.21s/it]\n",
      "pixdim[1,2,3] should be non-zero; setting 0 dims to 1\n"
     ]
    },
    {
     "name": "stdout",
     "output_type": "stream",
     "text": [
      "114217, [8, 10, 12, 16] modes: 0.355/0.299\n",
      "Time elapsed is 492.6 seconds\n"
     ]
    },
    {
     "name": "stderr",
     "output_type": "stream",
     "text": [
      "pixdim[1,2,3] should be non-zero; setting 0 dims to 1\n",
      "pixdim[1,2,3] should be non-zero; setting 0 dims to 1\n",
      "pixdim[1,2,3] should be non-zero; setting 0 dims to 1\n",
      "100%|██████████| 3/3 [07:56<00:00, 158.67s/it]\n",
      "pixdim[1,2,3] should be non-zero; setting 0 dims to 1\n"
     ]
    },
    {
     "name": "stdout",
     "output_type": "stream",
     "text": [
      "118225, [8, 10, 12, 16] modes: 0.491/0.351\n",
      "Time elapsed is 491.8 seconds\n"
     ]
    },
    {
     "name": "stderr",
     "output_type": "stream",
     "text": [
      "pixdim[1,2,3] should be non-zero; setting 0 dims to 1\n",
      "pixdim[1,2,3] should be non-zero; setting 0 dims to 1\n",
      "pixdim[1,2,3] should be non-zero; setting 0 dims to 1\n",
      "100%|██████████| 3/3 [07:54<00:00, 158.13s/it]\n",
      "pixdim[1,2,3] should be non-zero; setting 0 dims to 1\n"
     ]
    },
    {
     "name": "stdout",
     "output_type": "stream",
     "text": [
      "122822, [8, 10, 12, 16] modes: 0.318/0.266\n",
      "Time elapsed is 489.9 seconds\n"
     ]
    },
    {
     "name": "stderr",
     "output_type": "stream",
     "text": [
      "pixdim[1,2,3] should be non-zero; setting 0 dims to 1\n",
      "pixdim[1,2,3] should be non-zero; setting 0 dims to 1\n",
      "pixdim[1,2,3] should be non-zero; setting 0 dims to 1\n",
      "100%|██████████| 3/3 [07:53<00:00, 157.79s/it]\n",
      "pixdim[1,2,3] should be non-zero; setting 0 dims to 1\n"
     ]
    },
    {
     "name": "stdout",
     "output_type": "stream",
     "text": [
      "123925, [8, 10, 12, 16] modes: 0.094/0.093\n",
      "Time elapsed is 488.8 seconds\n"
     ]
    },
    {
     "name": "stderr",
     "output_type": "stream",
     "text": [
      "pixdim[1,2,3] should be non-zero; setting 0 dims to 1\n",
      "pixdim[1,2,3] should be non-zero; setting 0 dims to 1\n",
      "pixdim[1,2,3] should be non-zero; setting 0 dims to 1\n",
      "100%|██████████| 3/3 [08:22<00:00, 165.72s/it]\n",
      "pixdim[1,2,3] should be non-zero; setting 0 dims to 1\n"
     ]
    },
    {
     "name": "stdout",
     "output_type": "stream",
     "text": [
      "130619, [8, 10, 12, 16] modes: 0.589/0.457\n",
      "Time elapsed is 518.7 seconds\n"
     ]
    },
    {
     "name": "stderr",
     "output_type": "stream",
     "text": [
      "pixdim[1,2,3] should be non-zero; setting 0 dims to 1\n",
      "pixdim[1,2,3] should be non-zero; setting 0 dims to 1\n",
      "pixdim[1,2,3] should be non-zero; setting 0 dims to 1\n",
      "100%|██████████| 3/3 [08:29<00:00, 166.85s/it]\n",
      "pixdim[1,2,3] should be non-zero; setting 0 dims to 1\n"
     ]
    },
    {
     "name": "stdout",
     "output_type": "stream",
     "text": [
      "131217, [8, 10, 12, 16] modes: 0.202/0.257\n",
      "Time elapsed is 524.9 seconds\n"
     ]
    },
    {
     "name": "stderr",
     "output_type": "stream",
     "text": [
      "pixdim[1,2,3] should be non-zero; setting 0 dims to 1\n",
      "pixdim[1,2,3] should be non-zero; setting 0 dims to 1\n",
      "pixdim[1,2,3] should be non-zero; setting 0 dims to 1\n",
      "100%|██████████| 3/3 [07:56<00:00, 159.10s/it]\n",
      "pixdim[1,2,3] should be non-zero; setting 0 dims to 1\n"
     ]
    },
    {
     "name": "stdout",
     "output_type": "stream",
     "text": [
      "131722, [8, 10, 12, 16] modes: 0.268/0.242\n",
      "Time elapsed is 492.5 seconds\n"
     ]
    },
    {
     "name": "stderr",
     "output_type": "stream",
     "text": [
      "pixdim[1,2,3] should be non-zero; setting 0 dims to 1\n",
      "pixdim[1,2,3] should be non-zero; setting 0 dims to 1\n",
      "pixdim[1,2,3] should be non-zero; setting 0 dims to 1\n",
      "100%|██████████| 3/3 [08:15<00:00, 165.46s/it]\n",
      "pixdim[1,2,3] should be non-zero; setting 0 dims to 1\n"
     ]
    },
    {
     "name": "stdout",
     "output_type": "stream",
     "text": [
      "136732, [8, 10, 12, 16] modes: 0.242/0.167\n",
      "Time elapsed is 511.7 seconds\n"
     ]
    },
    {
     "name": "stderr",
     "output_type": "stream",
     "text": [
      "pixdim[1,2,3] should be non-zero; setting 0 dims to 1\n",
      "pixdim[1,2,3] should be non-zero; setting 0 dims to 1\n",
      "pixdim[1,2,3] should be non-zero; setting 0 dims to 1\n",
      "100%|██████████| 3/3 [08:16<00:00, 165.58s/it]\n",
      "pixdim[1,2,3] should be non-zero; setting 0 dims to 1\n"
     ]
    },
    {
     "name": "stdout",
     "output_type": "stream",
     "text": [
      "137229, [8, 10, 12, 16] modes: 0.464/0.352\n",
      "Time elapsed is 512.5 seconds\n"
     ]
    },
    {
     "name": "stderr",
     "output_type": "stream",
     "text": [
      "pixdim[1,2,3] should be non-zero; setting 0 dims to 1\n",
      "pixdim[1,2,3] should be non-zero; setting 0 dims to 1\n",
      "pixdim[1,2,3] should be non-zero; setting 0 dims to 1\n",
      "100%|██████████| 3/3 [08:20<00:00, 166.75s/it]\n",
      "pixdim[1,2,3] should be non-zero; setting 0 dims to 1\n"
     ]
    },
    {
     "name": "stdout",
     "output_type": "stream",
     "text": [
      "137633, [8, 10, 12, 16] modes: 0.559/0.465\n",
      "Time elapsed is 516.7 seconds\n"
     ]
    },
    {
     "name": "stderr",
     "output_type": "stream",
     "text": [
      "pixdim[1,2,3] should be non-zero; setting 0 dims to 1\n",
      "pixdim[1,2,3] should be non-zero; setting 0 dims to 1\n",
      "pixdim[1,2,3] should be non-zero; setting 0 dims to 1\n",
      "100%|██████████| 3/3 [08:17<00:00, 165.61s/it]\n",
      "pixdim[1,2,3] should be non-zero; setting 0 dims to 1\n"
     ]
    },
    {
     "name": "stdout",
     "output_type": "stream",
     "text": [
      "145127, [8, 10, 12, 16] modes: 0.359/0.314\n",
      "Time elapsed is 513.1 seconds\n"
     ]
    },
    {
     "name": "stderr",
     "output_type": "stream",
     "text": [
      "pixdim[1,2,3] should be non-zero; setting 0 dims to 1\n",
      "pixdim[1,2,3] should be non-zero; setting 0 dims to 1\n",
      "pixdim[1,2,3] should be non-zero; setting 0 dims to 1\n",
      "100%|██████████| 3/3 [08:16<00:00, 165.58s/it]\n",
      "pixdim[1,2,3] should be non-zero; setting 0 dims to 1\n"
     ]
    },
    {
     "name": "stdout",
     "output_type": "stream",
     "text": [
      "148335, [8, 10, 12, 16] modes: 0.436/0.389\n",
      "Time elapsed is 512.2 seconds\n"
     ]
    },
    {
     "name": "stderr",
     "output_type": "stream",
     "text": [
      "pixdim[1,2,3] should be non-zero; setting 0 dims to 1\n",
      "pixdim[1,2,3] should be non-zero; setting 0 dims to 1\n",
      "pixdim[1,2,3] should be non-zero; setting 0 dims to 1\n",
      "100%|██████████| 3/3 [08:11<00:00, 164.51s/it]\n",
      "pixdim[1,2,3] should be non-zero; setting 0 dims to 1\n"
     ]
    },
    {
     "name": "stdout",
     "output_type": "stream",
     "text": [
      "149842, [8, 10, 12, 16] modes: 0.478/0.433\n",
      "Time elapsed is 507.8 seconds\n"
     ]
    },
    {
     "name": "stderr",
     "output_type": "stream",
     "text": [
      "pixdim[1,2,3] should be non-zero; setting 0 dims to 1\n",
      "pixdim[1,2,3] should be non-zero; setting 0 dims to 1\n",
      "pixdim[1,2,3] should be non-zero; setting 0 dims to 1\n",
      "100%|██████████| 3/3 [08:24<00:00, 168.26s/it]\n",
      "pixdim[1,2,3] should be non-zero; setting 0 dims to 1\n"
     ]
    },
    {
     "name": "stdout",
     "output_type": "stream",
     "text": [
      "151425, [8, 10, 12, 16] modes: 0.155/0.123\n",
      "Time elapsed is 520.4 seconds\n"
     ]
    },
    {
     "name": "stderr",
     "output_type": "stream",
     "text": [
      "pixdim[1,2,3] should be non-zero; setting 0 dims to 1\n",
      "pixdim[1,2,3] should be non-zero; setting 0 dims to 1\n",
      "pixdim[1,2,3] should be non-zero; setting 0 dims to 1\n",
      "100%|██████████| 3/3 [08:21<00:00, 167.24s/it]\n",
      "pixdim[1,2,3] should be non-zero; setting 0 dims to 1\n"
     ]
    },
    {
     "name": "stdout",
     "output_type": "stream",
     "text": [
      "152831, [8, 10, 12, 16] modes: 0.338/0.266\n",
      "Time elapsed is 517.3 seconds\n"
     ]
    },
    {
     "name": "stderr",
     "output_type": "stream",
     "text": [
      "pixdim[1,2,3] should be non-zero; setting 0 dims to 1\n",
      "pixdim[1,2,3] should be non-zero; setting 0 dims to 1\n",
      "pixdim[1,2,3] should be non-zero; setting 0 dims to 1\n",
      "100%|██████████| 3/3 [08:24<00:00, 168.13s/it]\n",
      "pixdim[1,2,3] should be non-zero; setting 0 dims to 1\n"
     ]
    },
    {
     "name": "stdout",
     "output_type": "stream",
     "text": [
      "154936, [8, 10, 12, 16] modes: 0.448/0.324\n",
      "Time elapsed is 520.3 seconds\n"
     ]
    },
    {
     "name": "stderr",
     "output_type": "stream",
     "text": [
      "pixdim[1,2,3] should be non-zero; setting 0 dims to 1\n",
      "pixdim[1,2,3] should be non-zero; setting 0 dims to 1\n",
      "pixdim[1,2,3] should be non-zero; setting 0 dims to 1\n",
      "100%|██████████| 3/3 [09:13<00:00, 184.32s/it]\n",
      "pixdim[1,2,3] should be non-zero; setting 0 dims to 1\n"
     ]
    },
    {
     "name": "stdout",
     "output_type": "stream",
     "text": [
      "155938, [8, 10, 12, 16] modes: 0.119/0.083\n",
      "Time elapsed is 569.3 seconds\n"
     ]
    },
    {
     "name": "stderr",
     "output_type": "stream",
     "text": [
      "pixdim[1,2,3] should be non-zero; setting 0 dims to 1\n",
      "pixdim[1,2,3] should be non-zero; setting 0 dims to 1\n",
      "pixdim[1,2,3] should be non-zero; setting 0 dims to 1\n",
      "100%|██████████| 3/3 [08:21<00:00, 167.32s/it]\n",
      "pixdim[1,2,3] should be non-zero; setting 0 dims to 1\n"
     ]
    },
    {
     "name": "stdout",
     "output_type": "stream",
     "text": [
      "157437, [8, 10, 12, 16] modes: 0.035/0.055\n",
      "Time elapsed is 517.8 seconds\n"
     ]
    },
    {
     "name": "stderr",
     "output_type": "stream",
     "text": [
      "pixdim[1,2,3] should be non-zero; setting 0 dims to 1\n",
      "pixdim[1,2,3] should be non-zero; setting 0 dims to 1\n",
      "pixdim[1,2,3] should be non-zero; setting 0 dims to 1\n",
      "100%|██████████| 3/3 [08:22<00:00, 167.68s/it]\n",
      "pixdim[1,2,3] should be non-zero; setting 0 dims to 1\n"
     ]
    },
    {
     "name": "stdout",
     "output_type": "stream",
     "text": [
      "157942, [8, 10, 12, 16] modes: 0.367/0.284\n",
      "Time elapsed is 518.7 seconds\n"
     ]
    },
    {
     "name": "stderr",
     "output_type": "stream",
     "text": [
      "pixdim[1,2,3] should be non-zero; setting 0 dims to 1\n",
      "pixdim[1,2,3] should be non-zero; setting 0 dims to 1\n",
      "pixdim[1,2,3] should be non-zero; setting 0 dims to 1\n",
      "100%|██████████| 3/3 [08:09<00:00, 162.81s/it]\n",
      "pixdim[1,2,3] should be non-zero; setting 0 dims to 1\n"
     ]
    },
    {
     "name": "stdout",
     "output_type": "stream",
     "text": [
      "158843, [8, 10, 12, 16] modes: 0.392/0.296\n",
      "Time elapsed is 504.8 seconds\n"
     ]
    },
    {
     "name": "stderr",
     "output_type": "stream",
     "text": [
      "pixdim[1,2,3] should be non-zero; setting 0 dims to 1\n",
      "pixdim[1,2,3] should be non-zero; setting 0 dims to 1\n",
      "pixdim[1,2,3] should be non-zero; setting 0 dims to 1\n",
      "  0%|          | 0/3 [00:00<?, ?it/s]/usr/local/lib/python2.7/dist-packages/numpy/lib/function_base.py:3183: RuntimeWarning: invalid value encountered in true_divide\n",
      "  c /= stddev[:, None]\n",
      "/usr/local/lib/python2.7/dist-packages/numpy/lib/function_base.py:3184: RuntimeWarning: invalid value encountered in true_divide\n",
      "  c /= stddev[None, :]\n",
      "/usr/local/lib/python2.7/dist-packages/numpy/core/_methods.py:26: RuntimeWarning: invalid value encountered in reduce\n",
      "  return umr_maximum(a, axis, None, out, keepdims)\n",
      "100%|██████████| 3/3 [08:01<00:00, 160.61s/it]\n",
      "pixdim[1,2,3] should be non-zero; setting 0 dims to 1\n"
     ]
    },
    {
     "name": "stdout",
     "output_type": "stream",
     "text": [
      "164030, [8, 10, 12, 16] modes: 0.387/0.312\n",
      "Time elapsed is 497.2 seconds\n"
     ]
    },
    {
     "name": "stderr",
     "output_type": "stream",
     "text": [
      "pixdim[1,2,3] should be non-zero; setting 0 dims to 1\n",
      "pixdim[1,2,3] should be non-zero; setting 0 dims to 1\n",
      "pixdim[1,2,3] should be non-zero; setting 0 dims to 1\n",
      "100%|██████████| 3/3 [08:26<00:00, 168.31s/it]\n",
      "pixdim[1,2,3] should be non-zero; setting 0 dims to 1\n"
     ]
    },
    {
     "name": "stdout",
     "output_type": "stream",
     "text": [
      "164131, [8, 10, 12, 16] modes: 0.141/0.145\n",
      "Time elapsed is 522.1 seconds\n"
     ]
    },
    {
     "name": "stderr",
     "output_type": "stream",
     "text": [
      "pixdim[1,2,3] should be non-zero; setting 0 dims to 1\n",
      "pixdim[1,2,3] should be non-zero; setting 0 dims to 1\n",
      "pixdim[1,2,3] should be non-zero; setting 0 dims to 1\n",
      "100%|██████████| 3/3 [08:52<00:00, 179.47s/it]\n",
      "pixdim[1,2,3] should be non-zero; setting 0 dims to 1\n"
     ]
    },
    {
     "name": "stdout",
     "output_type": "stream",
     "text": [
      "166438, [8, 10, 12, 16] modes: 0.138/0.093\n",
      "Time elapsed is 548.2 seconds\n"
     ]
    },
    {
     "name": "stderr",
     "output_type": "stream",
     "text": [
      "pixdim[1,2,3] should be non-zero; setting 0 dims to 1\n",
      "pixdim[1,2,3] should be non-zero; setting 0 dims to 1\n",
      "pixdim[1,2,3] should be non-zero; setting 0 dims to 1\n",
      "100%|██████████| 3/3 [08:24<00:00, 168.29s/it]\n",
      "pixdim[1,2,3] should be non-zero; setting 0 dims to 1\n"
     ]
    },
    {
     "name": "stdout",
     "output_type": "stream",
     "text": [
      "167036, [8, 10, 12, 16] modes: 0.465/0.398\n",
      "Time elapsed is 520.6 seconds\n"
     ]
    },
    {
     "name": "stderr",
     "output_type": "stream",
     "text": [
      "pixdim[1,2,3] should be non-zero; setting 0 dims to 1\n",
      "pixdim[1,2,3] should be non-zero; setting 0 dims to 1\n",
      "pixdim[1,2,3] should be non-zero; setting 0 dims to 1\n",
      "100%|██████████| 3/3 [08:23<00:00, 167.81s/it]\n",
      "pixdim[1,2,3] should be non-zero; setting 0 dims to 1\n"
     ]
    },
    {
     "name": "stdout",
     "output_type": "stream",
     "text": [
      "167238, [8, 10, 12, 16] modes: 0.492/0.437\n",
      "Time elapsed is 519.2 seconds\n"
     ]
    },
    {
     "name": "stderr",
     "output_type": "stream",
     "text": [
      "pixdim[1,2,3] should be non-zero; setting 0 dims to 1\n",
      "pixdim[1,2,3] should be non-zero; setting 0 dims to 1\n",
      "pixdim[1,2,3] should be non-zero; setting 0 dims to 1\n",
      "100%|██████████| 3/3 [08:19<00:00, 166.75s/it]\n",
      "pixdim[1,2,3] should be non-zero; setting 0 dims to 1\n"
     ]
    },
    {
     "name": "stdout",
     "output_type": "stream",
     "text": [
      "168240, [8, 10, 12, 16] modes: 0.436/0.397\n",
      "Time elapsed is 515.7 seconds\n"
     ]
    },
    {
     "name": "stderr",
     "output_type": "stream",
     "text": [
      "pixdim[1,2,3] should be non-zero; setting 0 dims to 1\n",
      "pixdim[1,2,3] should be non-zero; setting 0 dims to 1\n",
      "pixdim[1,2,3] should be non-zero; setting 0 dims to 1\n",
      "100%|██████████| 3/3 [08:11<00:00, 163.94s/it]\n",
      "pixdim[1,2,3] should be non-zero; setting 0 dims to 1\n"
     ]
    },
    {
     "name": "stdout",
     "output_type": "stream",
     "text": [
      "171633, [8, 10, 12, 16] modes: 0.179/0.189\n",
      "Time elapsed is 507.2 seconds\n"
     ]
    },
    {
     "name": "stderr",
     "output_type": "stream",
     "text": [
      "pixdim[1,2,3] should be non-zero; setting 0 dims to 1\n",
      "pixdim[1,2,3] should be non-zero; setting 0 dims to 1\n",
      "pixdim[1,2,3] should be non-zero; setting 0 dims to 1\n",
      "100%|██████████| 3/3 [08:16<00:00, 165.45s/it]\n",
      "pixdim[1,2,3] should be non-zero; setting 0 dims to 1\n"
     ]
    },
    {
     "name": "stdout",
     "output_type": "stream",
     "text": [
      "172029, [8, 10, 12, 16] modes: 0.559/0.466\n",
      "Time elapsed is 511.8 seconds\n"
     ]
    },
    {
     "name": "stderr",
     "output_type": "stream",
     "text": [
      "pixdim[1,2,3] should be non-zero; setting 0 dims to 1\n",
      "pixdim[1,2,3] should be non-zero; setting 0 dims to 1\n",
      "pixdim[1,2,3] should be non-zero; setting 0 dims to 1\n",
      "100%|██████████| 3/3 [08:20<00:00, 166.97s/it]\n",
      "pixdim[1,2,3] should be non-zero; setting 0 dims to 1\n"
     ]
    },
    {
     "name": "stdout",
     "output_type": "stream",
     "text": [
      "173940, [8, 10, 12, 16] modes: 0.583/0.480\n",
      "Time elapsed is 516.2 seconds\n"
     ]
    },
    {
     "name": "stderr",
     "output_type": "stream",
     "text": [
      "pixdim[1,2,3] should be non-zero; setting 0 dims to 1\n",
      "pixdim[1,2,3] should be non-zero; setting 0 dims to 1\n",
      "pixdim[1,2,3] should be non-zero; setting 0 dims to 1\n",
      "100%|██████████| 3/3 [08:30<00:00, 168.04s/it]\n",
      "pixdim[1,2,3] should be non-zero; setting 0 dims to 1\n"
     ]
    },
    {
     "name": "stdout",
     "output_type": "stream",
     "text": [
      "177241, [8, 10, 12, 16] modes: 0.108/0.102\n",
      "Time elapsed is 526.4 seconds\n"
     ]
    },
    {
     "name": "stderr",
     "output_type": "stream",
     "text": [
      "pixdim[1,2,3] should be non-zero; setting 0 dims to 1\n",
      "pixdim[1,2,3] should be non-zero; setting 0 dims to 1\n",
      "pixdim[1,2,3] should be non-zero; setting 0 dims to 1\n",
      "100%|██████████| 3/3 [08:16<00:00, 165.59s/it]\n",
      "pixdim[1,2,3] should be non-zero; setting 0 dims to 1\n"
     ]
    },
    {
     "name": "stdout",
     "output_type": "stream",
     "text": [
      "178950, [8, 10, 12, 16] modes: 0.384/0.348\n",
      "Time elapsed is 512.7 seconds\n"
     ]
    },
    {
     "name": "stderr",
     "output_type": "stream",
     "text": [
      "pixdim[1,2,3] should be non-zero; setting 0 dims to 1\n",
      "pixdim[1,2,3] should be non-zero; setting 0 dims to 1\n",
      "pixdim[1,2,3] should be non-zero; setting 0 dims to 1\n",
      "100%|██████████| 3/3 [08:26<00:00, 169.02s/it]\n",
      "pixdim[1,2,3] should be non-zero; setting 0 dims to 1\n"
     ]
    },
    {
     "name": "stdout",
     "output_type": "stream",
     "text": [
      "179245, [8, 10, 12, 16] modes: 0.174/0.148\n",
      "Time elapsed is 522.8 seconds\n"
     ]
    },
    {
     "name": "stderr",
     "output_type": "stream",
     "text": [
      "pixdim[1,2,3] should be non-zero; setting 0 dims to 1\n",
      "pixdim[1,2,3] should be non-zero; setting 0 dims to 1\n",
      "pixdim[1,2,3] should be non-zero; setting 0 dims to 1\n",
      "100%|██████████| 3/3 [08:19<00:00, 167.97s/it]\n",
      "pixdim[1,2,3] should be non-zero; setting 0 dims to 1\n"
     ]
    },
    {
     "name": "stdout",
     "output_type": "stream",
     "text": [
      "179346, [8, 10, 12, 16] modes: 0.090/0.102\n",
      "Time elapsed is 515.5 seconds\n"
     ]
    },
    {
     "name": "stderr",
     "output_type": "stream",
     "text": [
      "pixdim[1,2,3] should be non-zero; setting 0 dims to 1\n",
      "pixdim[1,2,3] should be non-zero; setting 0 dims to 1\n",
      "pixdim[1,2,3] should be non-zero; setting 0 dims to 1\n",
      "100%|██████████| 3/3 [07:59<00:00, 159.80s/it]\n",
      "pixdim[1,2,3] should be non-zero; setting 0 dims to 1\n"
     ]
    },
    {
     "name": "stdout",
     "output_type": "stream",
     "text": [
      "180432, [8, 10, 12, 16] modes: 0.357/0.350\n",
      "Time elapsed is 495.3 seconds\n"
     ]
    },
    {
     "name": "stderr",
     "output_type": "stream",
     "text": [
      "pixdim[1,2,3] should be non-zero; setting 0 dims to 1\n",
      "pixdim[1,2,3] should be non-zero; setting 0 dims to 1\n",
      "pixdim[1,2,3] should be non-zero; setting 0 dims to 1\n",
      "100%|██████████| 3/3 [08:02<00:00, 161.05s/it]\n",
      "pixdim[1,2,3] should be non-zero; setting 0 dims to 1\n"
     ]
    },
    {
     "name": "stdout",
     "output_type": "stream",
     "text": [
      "180937, [8, 10, 12, 16] modes: 0.506/0.411\n",
      "Time elapsed is 498.0 seconds\n"
     ]
    },
    {
     "name": "stderr",
     "output_type": "stream",
     "text": [
      "pixdim[1,2,3] should be non-zero; setting 0 dims to 1\n",
      "pixdim[1,2,3] should be non-zero; setting 0 dims to 1\n",
      "pixdim[1,2,3] should be non-zero; setting 0 dims to 1\n",
      "100%|██████████| 3/3 [08:20<00:00, 167.18s/it]\n",
      "pixdim[1,2,3] should be non-zero; setting 0 dims to 1\n"
     ]
    },
    {
     "name": "stdout",
     "output_type": "stream",
     "text": [
      "181636, [8, 10, 12, 16] modes: 0.169/0.134\n",
      "Time elapsed is 516.1 seconds\n"
     ]
    },
    {
     "name": "stderr",
     "output_type": "stream",
     "text": [
      "pixdim[1,2,3] should be non-zero; setting 0 dims to 1\n",
      "pixdim[1,2,3] should be non-zero; setting 0 dims to 1\n",
      "pixdim[1,2,3] should be non-zero; setting 0 dims to 1\n",
      "100%|██████████| 3/3 [08:49<00:00, 178.47s/it]\n",
      "pixdim[1,2,3] should be non-zero; setting 0 dims to 1\n"
     ]
    },
    {
     "name": "stdout",
     "output_type": "stream",
     "text": [
      "185341, [8, 10, 12, 16] modes: 0.563/0.426\n",
      "Time elapsed is 545.8 seconds\n"
     ]
    },
    {
     "name": "stderr",
     "output_type": "stream",
     "text": [
      "pixdim[1,2,3] should be non-zero; setting 0 dims to 1\n",
      "pixdim[1,2,3] should be non-zero; setting 0 dims to 1\n",
      "pixdim[1,2,3] should be non-zero; setting 0 dims to 1\n",
      "100%|██████████| 3/3 [08:32<00:00, 174.73s/it]\n",
      "pixdim[1,2,3] should be non-zero; setting 0 dims to 1\n"
     ]
    },
    {
     "name": "stdout",
     "output_type": "stream",
     "text": [
      "185442, [8, 10, 12, 16] modes: 0.391/0.325\n",
      "Time elapsed is 528.9 seconds\n"
     ]
    },
    {
     "name": "stderr",
     "output_type": "stream",
     "text": [
      "pixdim[1,2,3] should be non-zero; setting 0 dims to 1\n",
      "pixdim[1,2,3] should be non-zero; setting 0 dims to 1\n",
      "pixdim[1,2,3] should be non-zero; setting 0 dims to 1\n",
      "100%|██████████| 3/3 [09:38<00:00, 193.27s/it]\n",
      "pixdim[1,2,3] should be non-zero; setting 0 dims to 1\n"
     ]
    },
    {
     "name": "stdout",
     "output_type": "stream",
     "text": [
      "189450, [8, 10, 12, 16] modes: 0.264/0.248\n",
      "Time elapsed is 594.4 seconds\n"
     ]
    },
    {
     "name": "stderr",
     "output_type": "stream",
     "text": [
      "pixdim[1,2,3] should be non-zero; setting 0 dims to 1\n",
      "pixdim[1,2,3] should be non-zero; setting 0 dims to 1\n",
      "pixdim[1,2,3] should be non-zero; setting 0 dims to 1\n",
      "100%|██████████| 3/3 [08:13<00:00, 164.88s/it]\n",
      "pixdim[1,2,3] should be non-zero; setting 0 dims to 1\n"
     ]
    },
    {
     "name": "stdout",
     "output_type": "stream",
     "text": [
      "191336, [8, 10, 12, 16] modes: 0.487/0.343\n",
      "Time elapsed is 509.3 seconds\n"
     ]
    },
    {
     "name": "stderr",
     "output_type": "stream",
     "text": [
      "pixdim[1,2,3] should be non-zero; setting 0 dims to 1\n",
      "pixdim[1,2,3] should be non-zero; setting 0 dims to 1\n",
      "pixdim[1,2,3] should be non-zero; setting 0 dims to 1\n",
      "100%|██████████| 3/3 [08:09<00:00, 163.90s/it]\n",
      "pixdim[1,2,3] should be non-zero; setting 0 dims to 1\n"
     ]
    },
    {
     "name": "stdout",
     "output_type": "stream",
     "text": [
      "192843, [8, 10, 12, 16] modes: 0.154/0.162\n",
      "Time elapsed is 505.8 seconds\n"
     ]
    },
    {
     "name": "stderr",
     "output_type": "stream",
     "text": [
      "pixdim[1,2,3] should be non-zero; setting 0 dims to 1\n",
      "pixdim[1,2,3] should be non-zero; setting 0 dims to 1\n",
      "pixdim[1,2,3] should be non-zero; setting 0 dims to 1\n",
      "100%|██████████| 3/3 [08:15<00:00, 165.50s/it]\n",
      "pixdim[1,2,3] should be non-zero; setting 0 dims to 1\n"
     ]
    },
    {
     "name": "stdout",
     "output_type": "stream",
     "text": [
      "194746, [8, 10, 12, 16] modes: 0.509/0.393\n",
      "Time elapsed is 511.7 seconds\n"
     ]
    },
    {
     "name": "stderr",
     "output_type": "stream",
     "text": [
      "pixdim[1,2,3] should be non-zero; setting 0 dims to 1\n",
      "pixdim[1,2,3] should be non-zero; setting 0 dims to 1\n",
      "pixdim[1,2,3] should be non-zero; setting 0 dims to 1\n",
      "100%|██████████| 3/3 [08:18<00:00, 165.86s/it]\n",
      "pixdim[1,2,3] should be non-zero; setting 0 dims to 1\n"
     ]
    },
    {
     "name": "stdout",
     "output_type": "stream",
     "text": [
      "195041, [8, 10, 12, 16] modes: 0.370/0.314\n",
      "Time elapsed is 513.9 seconds\n"
     ]
    },
    {
     "name": "stderr",
     "output_type": "stream",
     "text": [
      "pixdim[1,2,3] should be non-zero; setting 0 dims to 1\n",
      "pixdim[1,2,3] should be non-zero; setting 0 dims to 1\n",
      "pixdim[1,2,3] should be non-zero; setting 0 dims to 1\n",
      "100%|██████████| 3/3 [08:22<00:00, 167.33s/it]\n",
      "pixdim[1,2,3] should be non-zero; setting 0 dims to 1\n"
     ]
    },
    {
     "name": "stdout",
     "output_type": "stream",
     "text": [
      "195849, [8, 10, 12, 16] modes: 0.274/0.266\n",
      "Time elapsed is 518.6 seconds\n"
     ]
    },
    {
     "name": "stderr",
     "output_type": "stream",
     "text": [
      "pixdim[1,2,3] should be non-zero; setting 0 dims to 1\n",
      "pixdim[1,2,3] should be non-zero; setting 0 dims to 1\n",
      "pixdim[1,2,3] should be non-zero; setting 0 dims to 1\n",
      "100%|██████████| 3/3 [08:24<00:00, 167.99s/it]\n",
      "pixdim[1,2,3] should be non-zero; setting 0 dims to 1\n"
     ]
    },
    {
     "name": "stdout",
     "output_type": "stream",
     "text": [
      "195950, [8, 10, 12, 16] modes: 0.149/0.101\n",
      "Time elapsed is 520.4 seconds\n"
     ]
    },
    {
     "name": "stderr",
     "output_type": "stream",
     "text": [
      "pixdim[1,2,3] should be non-zero; setting 0 dims to 1\n",
      "pixdim[1,2,3] should be non-zero; setting 0 dims to 1\n",
      "pixdim[1,2,3] should be non-zero; setting 0 dims to 1\n",
      "100%|██████████| 3/3 [08:32<00:00, 173.83s/it]\n",
      "pixdim[1,2,3] should be non-zero; setting 0 dims to 1\n"
     ]
    },
    {
     "name": "stdout",
     "output_type": "stream",
     "text": [
      "198249, [8, 10, 12, 16] modes: 0.057/0.034\n",
      "Time elapsed is 528.5 seconds\n"
     ]
    },
    {
     "name": "stderr",
     "output_type": "stream",
     "text": [
      "pixdim[1,2,3] should be non-zero; setting 0 dims to 1\n",
      "pixdim[1,2,3] should be non-zero; setting 0 dims to 1\n",
      "pixdim[1,2,3] should be non-zero; setting 0 dims to 1\n",
      "100%|██████████| 3/3 [08:28<00:00, 169.38s/it]\n",
      "pixdim[1,2,3] should be non-zero; setting 0 dims to 1\n"
     ]
    },
    {
     "name": "stdout",
     "output_type": "stream",
     "text": [
      "198350, [8, 10, 12, 16] modes: 0.329/0.303\n",
      "Time elapsed is 524.2 seconds\n"
     ]
    },
    {
     "name": "stderr",
     "output_type": "stream",
     "text": [
      "pixdim[1,2,3] should be non-zero; setting 0 dims to 1\n",
      "pixdim[1,2,3] should be non-zero; setting 0 dims to 1\n",
      "pixdim[1,2,3] should be non-zero; setting 0 dims to 1\n",
      "100%|██████████| 3/3 [08:08<00:00, 163.03s/it]\n",
      "pixdim[1,2,3] should be non-zero; setting 0 dims to 1\n"
     ]
    },
    {
     "name": "stdout",
     "output_type": "stream",
     "text": [
      "198855, [8, 10, 12, 16] modes: 0.489/0.414\n",
      "Time elapsed is 504.6 seconds\n"
     ]
    },
    {
     "name": "stderr",
     "output_type": "stream",
     "text": [
      "pixdim[1,2,3] should be non-zero; setting 0 dims to 1\n",
      "pixdim[1,2,3] should be non-zero; setting 0 dims to 1\n",
      "pixdim[1,2,3] should be non-zero; setting 0 dims to 1\n",
      "100%|██████████| 3/3 [08:08<00:00, 162.91s/it]\n",
      "pixdim[1,2,3] should be non-zero; setting 0 dims to 1\n"
     ]
    },
    {
     "name": "stdout",
     "output_type": "stream",
     "text": [
      "200008, [8, 10, 12, 16] modes: 0.538/0.395\n",
      "Time elapsed is 504.1 seconds\n"
     ]
    },
    {
     "name": "stderr",
     "output_type": "stream",
     "text": [
      "pixdim[1,2,3] should be non-zero; setting 0 dims to 1\n",
      "pixdim[1,2,3] should be non-zero; setting 0 dims to 1\n",
      "pixdim[1,2,3] should be non-zero; setting 0 dims to 1\n",
      "100%|██████████| 3/3 [08:23<00:00, 167.76s/it]\n",
      "pixdim[1,2,3] should be non-zero; setting 0 dims to 1\n"
     ]
    },
    {
     "name": "stdout",
     "output_type": "stream",
     "text": [
      "200311, [8, 10, 12, 16] modes: 0.595/0.456\n",
      "Time elapsed is 518.8 seconds\n"
     ]
    },
    {
     "name": "stderr",
     "output_type": "stream",
     "text": [
      "pixdim[1,2,3] should be non-zero; setting 0 dims to 1\n",
      "pixdim[1,2,3] should be non-zero; setting 0 dims to 1\n",
      "pixdim[1,2,3] should be non-zero; setting 0 dims to 1\n",
      "100%|██████████| 3/3 [08:20<00:00, 166.89s/it]\n",
      "pixdim[1,2,3] should be non-zero; setting 0 dims to 1\n"
     ]
    },
    {
     "name": "stdout",
     "output_type": "stream",
     "text": [
      "201414, [8, 10, 12, 16] modes: 0.452/0.309\n",
      "Time elapsed is 516.7 seconds\n"
     ]
    },
    {
     "name": "stderr",
     "output_type": "stream",
     "text": [
      "pixdim[1,2,3] should be non-zero; setting 0 dims to 1\n",
      "pixdim[1,2,3] should be non-zero; setting 0 dims to 1\n",
      "pixdim[1,2,3] should be non-zero; setting 0 dims to 1\n",
      "100%|██████████| 3/3 [08:13<00:00, 165.08s/it]\n",
      "pixdim[1,2,3] should be non-zero; setting 0 dims to 1\n"
     ]
    },
    {
     "name": "stdout",
     "output_type": "stream",
     "text": [
      "204319, [8, 10, 12, 16] modes: 0.519/0.408\n",
      "Time elapsed is 509.8 seconds\n"
     ]
    },
    {
     "name": "stderr",
     "output_type": "stream",
     "text": [
      "pixdim[1,2,3] should be non-zero; setting 0 dims to 1\n",
      "pixdim[1,2,3] should be non-zero; setting 0 dims to 1\n",
      "pixdim[1,2,3] should be non-zero; setting 0 dims to 1\n",
      "100%|██████████| 3/3 [08:46<00:00, 176.18s/it]\n",
      "pixdim[1,2,3] should be non-zero; setting 0 dims to 1\n"
     ]
    },
    {
     "name": "stdout",
     "output_type": "stream",
     "text": [
      "207123, [8, 10, 12, 16] modes: 0.150/0.146\n",
      "Time elapsed is 542.4 seconds\n"
     ]
    },
    {
     "name": "stderr",
     "output_type": "stream",
     "text": [
      "pixdim[1,2,3] should be non-zero; setting 0 dims to 1\n",
      "pixdim[1,2,3] should be non-zero; setting 0 dims to 1\n",
      "pixdim[1,2,3] should be non-zero; setting 0 dims to 1\n",
      "100%|██████████| 3/3 [08:04<00:00, 162.00s/it]\n",
      "pixdim[1,2,3] should be non-zero; setting 0 dims to 1\n"
     ]
    },
    {
     "name": "stdout",
     "output_type": "stream",
     "text": [
      "209228, [8, 10, 12, 16] modes: 0.331/0.233\n",
      "Time elapsed is 500.1 seconds\n"
     ]
    },
    {
     "name": "stderr",
     "output_type": "stream",
     "text": [
      "pixdim[1,2,3] should be non-zero; setting 0 dims to 1\n",
      "pixdim[1,2,3] should be non-zero; setting 0 dims to 1\n",
      "pixdim[1,2,3] should be non-zero; setting 0 dims to 1\n",
      "100%|██████████| 3/3 [07:52<00:00, 157.59s/it]\n",
      "pixdim[1,2,3] should be non-zero; setting 0 dims to 1\n"
     ]
    },
    {
     "name": "stdout",
     "output_type": "stream",
     "text": [
      "211316, [8, 10, 12, 16] modes: 0.439/0.354\n",
      "Time elapsed is 488.2 seconds\n"
     ]
    },
    {
     "name": "stderr",
     "output_type": "stream",
     "text": [
      "pixdim[1,2,3] should be non-zero; setting 0 dims to 1\n",
      "pixdim[1,2,3] should be non-zero; setting 0 dims to 1\n",
      "pixdim[1,2,3] should be non-zero; setting 0 dims to 1\n",
      "100%|██████████| 3/3 [07:53<00:00, 157.63s/it]\n",
      "pixdim[1,2,3] should be non-zero; setting 0 dims to 1\n"
     ]
    },
    {
     "name": "stdout",
     "output_type": "stream",
     "text": [
      "211922, [8, 10, 12, 16] modes: 0.621/0.498\n",
      "Time elapsed is 488.9 seconds\n"
     ]
    },
    {
     "name": "stderr",
     "output_type": "stream",
     "text": [
      "pixdim[1,2,3] should be non-zero; setting 0 dims to 1\n",
      "pixdim[1,2,3] should be non-zero; setting 0 dims to 1\n",
      "pixdim[1,2,3] should be non-zero; setting 0 dims to 1\n",
      "100%|██████████| 3/3 [08:05<00:00, 163.10s/it]\n",
      "pixdim[1,2,3] should be non-zero; setting 0 dims to 1\n"
     ]
    },
    {
     "name": "stdout",
     "output_type": "stream",
     "text": [
      "212116, [8, 10, 12, 16] modes: 0.425/0.364\n",
      "Time elapsed is 501.7 seconds\n"
     ]
    },
    {
     "name": "stderr",
     "output_type": "stream",
     "text": [
      "pixdim[1,2,3] should be non-zero; setting 0 dims to 1\n",
      "pixdim[1,2,3] should be non-zero; setting 0 dims to 1\n",
      "pixdim[1,2,3] should be non-zero; setting 0 dims to 1\n",
      "100%|██████████| 3/3 [07:54<00:00, 158.13s/it]\n",
      "pixdim[1,2,3] should be non-zero; setting 0 dims to 1\n"
     ]
    },
    {
     "name": "stdout",
     "output_type": "stream",
     "text": [
      "223929, [8, 10, 12, 16] modes: 0.038/0.012\n",
      "Time elapsed is 490.5 seconds\n"
     ]
    },
    {
     "name": "stderr",
     "output_type": "stream",
     "text": [
      "pixdim[1,2,3] should be non-zero; setting 0 dims to 1\n",
      "pixdim[1,2,3] should be non-zero; setting 0 dims to 1\n",
      "pixdim[1,2,3] should be non-zero; setting 0 dims to 1\n",
      "100%|██████████| 3/3 [08:22<00:00, 166.78s/it]\n",
      "pixdim[1,2,3] should be non-zero; setting 0 dims to 1\n"
     ]
    },
    {
     "name": "stdout",
     "output_type": "stream",
     "text": [
      "227432, [8, 10, 12, 16] modes: 0.398/0.376\n",
      "Time elapsed is 518.4 seconds\n"
     ]
    },
    {
     "name": "stderr",
     "output_type": "stream",
     "text": [
      "pixdim[1,2,3] should be non-zero; setting 0 dims to 1\n",
      "pixdim[1,2,3] should be non-zero; setting 0 dims to 1\n",
      "pixdim[1,2,3] should be non-zero; setting 0 dims to 1\n",
      "  0%|          | 0/3 [00:00<?, ?it/s]"
     ]
    }
   ],
   "source": [
    "\n",
    "from sklearn.decomposition import FastICA\n",
    "from tqdm import tqdm\n",
    "\n",
    "flag='_best_spatial'\n",
    "\n",
    "dL,dR,idx,scb,scl=pC.parseCoords()\n",
    "nSC=dL.shape[0]+dR.shape[0]\n",
    "u120=np.genfromtxt('./u120.txt').astype(int).astype(str)\n",
    "ulist=u120\n",
    "scandirs=['LR','RL']\n",
    "runlabels=['REST1','REST2']\n",
    "\n",
    "#nmodes=[8,12,16,24,32]\n",
    "nmodes=[8,10,12,16]\n",
    "npoint=dR.shape[0]+dL.shape[0]\n",
    "\n",
    "for uk,u in enumerate(ulist):\n",
    " if os.path.isfile('./sDMDvGICA/params/ica_{:}{:}.png'.format(u,flag)):\n",
    "  print '{:} already calculated!'.format(u)\n",
    " else:\n",
    "  tic=time.time()\n",
    "  X=[]\n",
    "  for runlabel in runlabels:\n",
    "    for scandir in scandirs:\n",
    "      try:\n",
    "        fname='/hdd/HCP_DMD/HCP_DMD/data/'+u+'/rfMRI_'+runlabel+'_'+scandir+'_Atlas.dtseries.nii'\n",
    "        X.append(pC.loadGrayord(fname)[:npoint])\n",
    "      except:\n",
    "        pass\n",
    "  X=np.hstack(X)\n",
    "  bestcscore=0.0\n",
    "  #nica=5\n",
    "  nica=3\n",
    "  for nk in tqdm(range(nica)):\n",
    "    try:\n",
    "\n",
    "      #ica=FastICA(np.random.choice(nmodes),max_iter=1000).fit(X.T).components_.T\n",
    "      ica=FastICA(np.random.choice(nmodes),max_iter=1000).fit_transform(X)\n",
    "      \n",
    "      \n",
    "      I=binCortexData(ica)\n",
    "      I=(I-I.mean(0)[None,:])/I.std(0)[None,:]\n",
    "      cscore_list=np.corrcoef((DMN_ICA[uk]>2).astype(float),(I.T>2).astype(float))[0,1:]\n",
    "      cscore=np.max(cscore_list)\n",
    "      \n",
    "      if cscore>bestcscore:\n",
    "        bestcscore=cscore\n",
    "        icadmn=I[:,np.argmax(cscore_list)]\n",
    "        icadmn=(icadmn-icadmn.mean())/icadmn.std()       \n",
    "        Cpop=list(np.corrcoef((icadmn>2.0).astype(float),(DMN_ICA>2.0).astype(float))[0,1:])\n",
    "        Csub=Cpop.pop(uk)\n",
    "        Cpop=np.array(Cpop)\n",
    "        \n",
    "    \n",
    "    except:\n",
    "      pass\n",
    "    \n",
    "  with h5py.File('./sDMDvGICA/params/{:}.h5'.format(u),'r') as hf:\n",
    "    #dmd_Cpop=np.array(hf['Cpop'])\n",
    "    #dmd_Csub=np.array(hf['Csub'])\n",
    "    D=np.array(hf['Db'])\n",
    "    GI=np.array(hf['Ik'])\n",
    "    \n",
    "  dmddmn=mat2flat(D)\n",
    "  \n",
    "  dmd_cpop=list(np.corrcoef((dmddmn>2.0).astype(float),(DMN_ICA>2.0).astype(float))[0,1:])\n",
    "  dmd_csub=dmd_cpop.pop(uk)\n",
    "  dmd_cpop=np.array(dmd_cpop)\n",
    "  \n",
    "  with h5py.File('./sDMDvGICA/params/{:}_ica{:}.h5'.format(u,flag),'w') as hf:\n",
    "    hf.create_dataset('Csub_ica',data=Csub)\n",
    "    hf.create_dataset('Cpop_ica',data=Cpop)\n",
    "    hf.create_dataset('Csub_dmd',data=dmd_csub)\n",
    "    hf.create_dataset('Cpop_dmd',data=dmd_cpop)\n",
    "    hf.create_dataset('icadmn',data=icadmn)\n",
    "    hf.create_dataset('nmodes',data=nmodes)\n",
    "\n",
    "  \n",
    "  \n",
    "  I=flat2mat(icadmn)\n",
    "  I[I==0.0]=np.nan\n",
    "  #%\n",
    "  plt.close('all')\n",
    "  plt.figure(figsize=(14,5))\n",
    "  #plt.get_current_fig_manager().window.setGeometry(295, 260, 1418, 554)\n",
    "  plt.subplot(1,3,1)\n",
    "  plt.imshow(I,vmin=0,vmax=2,cmap='viridis')\n",
    "  plt.title('ICA: {:0.3f}/{:0.3f}'.format(Csub,Cpop.mean()))\n",
    "  plt.xticks([]);plt.yticks([]);\n",
    "  plt.subplot(1,3,2)\n",
    "  plt.imshow(D,vmin=0,vmax=2,cmap='viridis')\n",
    "  plt.title('DMD: {:0.3f}/{:0.3f}'.format(float(dmd_csub),dmd_cpop.mean()))\n",
    "  plt.xticks([]);plt.yticks([]);\n",
    "  plt.subplot(1,3,3)\n",
    "  plt.imshow(GI,vmin=0,vmax=2,cmap='viridis')\n",
    "  plt.xticks([]);plt.yticks([])\n",
    "  \n",
    "  plt.savefig('./sDMDvGICA/params/ica_{:}{:}.png'.format(u,flag))\n",
    "  print '{:}, {:} modes: {:0.3f}/{:0.3f}'.format(u,nmodes,Csub,Cpop.mean())\n",
    "  print 'Time elapsed is {:0.1f} seconds'.format(time.time()-tic)\n",
    "  \n",
    "  "
   ]
  },
  {
   "cell_type": "code",
   "execution_count": null,
   "metadata": {},
   "outputs": [],
   "source": [
    "import numpy as np\n",
    "import h5py\n",
    "import pandas as pd\n",
    "u120=np.genfromtxt('/hdd/HCP_DMD/HCP_DMD/u120.txt').astype(int).astype(str)\n",
    "ulist=u120\n",
    "ica_pop=[];ica_sub=[]\n",
    "dmd_pop=[];dmd_sub=[]\n",
    "for u in ulist:\n",
    "  try:\n",
    "    with h5py.File('./sDMDvGICA/params/{:}_ica_best_spatial.h5'.format(u),'r') as hf:\n",
    "      ica_pop.append(np.array(hf['Cpop_ica']))\n",
    "      ica_sub.append(np.array(hf['Csub_ica']))\n",
    "      dmd_pop.append(np.array(hf['Cpop_dmd']))\n",
    "      dmd_sub.append(np.array(hf['Csub_dmd']))\n",
    "  except:\n",
    "    pass\n",
    "dmd_pop=np.hstack(dmd_pop)\n",
    "dmd_sub=np.hstack(dmd_sub)\n",
    "ica_pop=np.hstack(ica_pop)\n",
    "ica_sub=np.hstack(ica_sub)\n",
    "\n",
    "dlist=[dmd_pop,dmd_sub,ica_pop,ica_sub]\n",
    "dlabs=np.hstack([k*np.ones(len(d)) for k,d in enumerate(dlist)]).astype(int)\n",
    "data=np.hstack(dlist)\n",
    "is_ica=np.array(dlabs>=2).astype(int)\n",
    "icatabs=np.array(['sDMD','ICA'])\n",
    "is_ica=icatabs[is_ica]\n",
    "\n",
    "dlt=['Across Population','Within Same Subject']\n",
    "dlabtabs=np.array(dlt*2)\n",
    "dlabs=dlabtabs[dlabs]\n",
    "\n",
    "corlab='Correlation of DMD/ICA DMNs with gICA DMNs'\n",
    "\n",
    "df=pd.DataFrame.from_dict({'popcompare':dlabs,corlab:data,'isICA':is_ica})\n",
    "\n",
    "import matplotlib.pyplot as plt\n",
    "import seaborn as sns\n",
    "sns.set_style('whitegrid')\n",
    "plt.close('all')\n",
    "plt.figure()\n",
    "plt.get_current_fig_manager().window.setGeometry(594, 261, 1155, 394)\n",
    "#g=sns.violinplot(data=df,x='popcompare',y='Correlation with gICA DMN',hue='isICA',inner='quartile',split=True,legend_out=True)\n",
    "plt.plot([0,0.7],[0,0],c=[0.3,0.3,0.3])\n",
    "plt.plot([0,0.7],[1,1],c=[0.3,0.3,0.3])\n",
    "g=sns.violinplot(data=df,y='popcompare',x=corlab,hue='isICA',inner='quartile',split=True,legend_out=True,scale='width')\n",
    "leg=g.axes.get_legend()\n",
    "leg.set_title('');leg._loc=2\n",
    "\n",
    "plt.xlim([0,0.7])\n",
    "#plt.xlabel('')\n",
    "plt.yticks([0,1],['across   \\n Population','within \\n Subject'],rotation=90,va='center',size=16)\n",
    "plt.ylabel('')\n",
    "plt.xlabel('Correlation',size=16)\n",
    "\n",
    "###SAVE\n",
    "#plt.savefig('./sDMDvGICA/Distributions.svg')\n"
   ]
  }
 ],
 "metadata": {
  "kernelspec": {
   "display_name": "Python 2",
   "language": "python",
   "name": "python2"
  },
  "language_info": {
   "codemirror_mode": {
    "name": "ipython",
    "version": 2
   },
   "file_extension": ".py",
   "mimetype": "text/x-python",
   "name": "python",
   "nbconvert_exporter": "python",
   "pygments_lexer": "ipython2",
   "version": "2.7.12"
  }
 },
 "nbformat": 4,
 "nbformat_minor": 2
}

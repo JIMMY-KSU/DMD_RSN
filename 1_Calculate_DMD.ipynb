{
 "cells": [
  {
   "cell_type": "markdown",
   "metadata": {},
   "source": [
    "# Calculate DMD Modes\n",
    "***\n",
    "\n",
    "This script calculates windowed DMD modes as described in the paper *Extracting Reproducible Time-Resolved Resting State Networks using Dynamic Mode Decomposition*, by Kunert-Graf, Eschenburg, Galas, Kutz, Rane and Brunton."
   ]
  },
  {
   "cell_type": "code",
   "execution_count": 20,
   "metadata": {},
   "outputs": [
    {
     "name": "stdout",
     "output_type": "stream",
     "text": [
      "James Kunert-Graf \n",
      "last updated: 2018-04-24 \n",
      "\n",
      "CPython 2.7.12\n",
      "IPython 5.5.0\n",
      "\n",
      "h5py 2.7.0\n",
      "tqdm 4.11.2\n",
      "numpy 1.14.2\n",
      "sklearn 0.18\n",
      "nibabel 2.1.0\n",
      "\n",
      "compiler   : GCC 5.4.0 20160609\n",
      "system     : Linux\n",
      "release    : 4.4.0-119-generic\n",
      "machine    : x86_64\n",
      "processor  : x86_64\n",
      "CPU cores  : 12\n",
      "interpreter: 64bit\n",
      "Git hash   : ff0956d116e98b1c00225213f8210f7786975092\n"
     ]
    }
   ],
   "source": [
    "%watermark -a \"James Kunert-Graf\" -d -v -m -p h5py,tqdm,numpy,sklearn,nibabel -g -u"
   ]
  },
  {
   "cell_type": "code",
   "execution_count": 3,
   "metadata": {},
   "outputs": [
    {
     "name": "stderr",
     "output_type": "stream",
     "text": [
      "/usr/local/lib/python2.7/dist-packages/h5py/__init__.py:34: FutureWarning: Conversion of the second argument of issubdtype from `float` to `np.floating` is deprecated. In future, it will be treated as `np.float64 == np.dtype(float).type`.\n",
      "  from ._conv import register_converters as _register_converters\n"
     ]
    }
   ],
   "source": [
    "import os\n",
    "import h5py\n",
    "from tqdm import tqdm_notebook as tqdm\n",
    "import numpy as np\n",
    "from sklearn.decomposition import FastICA\n",
    "import nibabel as nib\n",
    "\n",
    "#import 'DMD', which runs DMD on an input data array (with rows as variables, columns as timepoints)\n",
    "#and outputs DMD modes along with the associated powers and frequencies\n",
    "from DMD import DMD\n",
    "#import 'binCortexData', which takes grayordinate DMD modes and bins them spatially for clearer visualization\n",
    "#and ease of clustering\n",
    "from hcp_dmd_utils import binCortexData,loadGrayord\n",
    "\n",
    "%matplotlib inline"
   ]
  },
  {
   "cell_type": "markdown",
   "metadata": {},
   "source": [
    "## Parameters and Filepaths\n",
    "***\n",
    "The cell below contains parameters for the execution of the algorithm, along with variables specifying which data to analyze\n",
    "\n",
    "**Parameters**\n",
    "\n",
    "-  *FRAME0S*: list of where each window should start (setting last argument to '4' means windows slide in increments of 4)\n",
    "-  *nmodes*: number of modes to calculate in each window\n",
    "-  *nframes*: length of each window, in number of frames\n",
    "\n",
    "**Filepath Information**\n",
    "The analysis in this notebook iterates through many scans, as specified by these variables.\n",
    "\n",
    "The code assumes that data is located in a directory with a structure such as given by this example:\n",
    "*<font color=\"#ff0000\">/path/to/data/</font><font color=\"#44aa00\">102513</font>/rfMRI\\_<font color=\"#aa44ff\">REST1</font>\\_<font color=\"#3333ff\">LR</font>\\_Atlas.dtseries.nii*\n",
    "\n",
    "The above path is specified by the following variables:\n",
    "- <font color=\"#ff0000\">datapath</font>: parent directory of data folders \n",
    "- <font color=\"#44aa00\">ulist</font>: list of subject IDs to analyze\n",
    "- <font color=\"#aa44ff\">runlabels</font>: list of run labels to analyze (e.g. REST1, REST2)\n",
    "- <font color=\"#3333ff\">scandir</font>: list of scan directions to analyze (LR/RL)"
   ]
  },
  {
   "cell_type": "code",
   "execution_count": 3,
   "metadata": {},
   "outputs": [],
   "source": [
    "#PARAMETERS\n",
    "FRAME0S=np.arange(0,1200,4)\n",
    "nmodes=8\n",
    "nframes=32\n",
    "\n",
    "#only keep windows which do not extend beyond the data matrix\n",
    "FRAME0S=FRAME0S[(FRAME0S+nframes)<=1200]\n",
    "\n",
    "#FILEPATHS\n",
    "#datapath='./data/'\n",
    "datapath='/hdd/HCP_DMD/HCP_DMD/data/'\n",
    "\n",
    "#load list of 120 subjects we analyzed\n",
    "u120=np.genfromtxt('u120.txt').astype(int).astype(str)\n",
    "ulist=u120\n",
    "\n",
    "#define which scans to iterate over:\n",
    "scandirs=['LR','RL']\n",
    "runlabels=['REST1','REST2']"
   ]
  },
  {
   "cell_type": "markdown",
   "metadata": {},
   "source": [
    "## Running the Analysis and Computing DMD Results\n",
    "\n",
    "In short, the code below loops through each of the scan files identified above and does the following:\n",
    "-  loads the scan data into the array **Xr**\n",
    "-  loops through each window of data and computes the DMD modes, along with associated powers and frequencies\n",
    "-  keep only those modes with positive frequencies, dropping redundant complex conjugate modes\n",
    "-  keep track of metadata for each mode such as which individual it comes from, which window number, etc.\n",
    "-  spatially bin each of the DMD modes\n",
    "-  save all of the above in a directory './DMD_results'"
   ]
  },
  {
   "cell_type": "code",
   "execution_count": null,
   "metadata": {},
   "outputs": [],
   "source": [
    "#'runlabel' and 'scandir' define which set of data to analyze\n",
    "# and 'ulist' defines the list of individuals to analyze\n",
    "for runlabel in runlabels:\n",
    "    for scandir in scandirs:\n",
    "        fdir='./DMD_results/nmodes{:}_nframes{:}_{:}_{:}/'.format(nmodes,nframes,runlabel,scandir)\n",
    "        for k,u in enumerate(ulist):\n",
    "            if os.path.exists(fdir+'Modes_{:}.h5'.format(u)) is False:\n",
    "                FT=[]\n",
    "                PT=[]\n",
    "                ux=[]\n",
    "                jx=[]\n",
    "                jno=[]\n",
    "                Phi=[]\n",
    "                fname=datapath+u+'/rfMRI_'+runlabel+'_'+scandir+'_Atlas.dtseries.nii'\n",
    "                #only perform if the corresponding data file exists..\n",
    "                if os.path.exists(fname) is True:\n",
    "                    print '[{:} modes, {:} frames] {:}/{:} :'.format(nmodes,nframes,k+1,len(ulist))+fname\n",
    "                    #load data\n",
    "                    Xr=loadGrayord(fname)\n",
    "                    #keep only the first 59,412 grayordinates, which are the cortical grayordinates\n",
    "                    #indices above this represent subcortical voxels which are ignored in this analysis\n",
    "                    Xr=Xr[:59412]\n",
    "                    #iterate through windows\n",
    "                    for j,frame0 in enumerate(tqdm(FRAME0S)):\n",
    "                        #select window of data\n",
    "                        X=Xr[:,frame0:(frame0+nframes)]\n",
    "                        \n",
    "                        #perform DMD on window of data, calculated 'nmodes' modes\n",
    "                        phik,pt,ft=DMD(X,n=nmodes)\n",
    "                        #only keep positive frequencies (drop conjugates)\n",
    "                        phik=phik[:,ft>=0]\n",
    "                        pt=pt[ft>=0]\n",
    "                        ft=ft[ft>=0]\n",
    "\n",
    "                        FT.append(ft)\n",
    "                        PT.append(pt)\n",
    "                        Phi.append(phik)\n",
    "                        #record:\n",
    "                        #subject number (ux),\n",
    "                        #window number (jx),\n",
    "                        #mode number within window (jno)\n",
    "                        ux.append(k*np.ones((len(ft),)))\n",
    "                        jx.append(j*np.ones((len(ft),)))\n",
    "                        jno.append(np.arange(len(ft)))\n",
    "                        \n",
    "\n",
    "                    #Separate collected modes into magnitude, phase\n",
    "                    Phi=np.absolute(np.hstack(Phi))\n",
    "                    Phase=np.angle(np.hstack(Phi))\n",
    "                    #stack frequencies, powers, etc.\n",
    "                    freq=np.hstack(FT)\n",
    "                    power=np.hstack(PT)\n",
    "                    ux=np.hstack(ux)\n",
    "                    jx=np.hstack(jx)\n",
    "                    jno=np.hstack(jno)\n",
    "\n",
    "                    #% SAVE RESULTS INTO h5 FILE\n",
    "                    try:\n",
    "                        os.mkdir('./DMD_results')\n",
    "                    except:\n",
    "                        pass\n",
    "                    try:\n",
    "                        os.mkdir(fdir)\n",
    "                    except:\n",
    "                        pass\n",
    "                    #save frequency, power, subject/window number, etc.\n",
    "                    with h5py.File(fdir+'{:}.h5'.format(u),'w') as hf:\n",
    "                        hf.create_dataset(\"freq\",data=freq)\n",
    "                        hf.create_dataset(\"power\",data=power)\n",
    "                        hf.create_dataset(\"jx\",data=jx)\n",
    "                        hf.create_dataset(\"jno\",data=jno)\n",
    "                        hf.create_dataset(\"ux\",data=ux)\n",
    "                        hf.create_dataset(\"nmodes\",data=nmodes)\n",
    "                        hf.create_dataset(\"nframes\",data=nframes)\n",
    "                        hf.create_dataset(\"scandir\",data=scandir)\n",
    "                    #% APPLY SPATIAL BINNING TO ALL MODES\n",
    "                    F=binCortexData(Phi)\n",
    "                    Th=binCortexData(Phase)\n",
    "                    F=F.T\n",
    "                    Th=Th.T\n",
    "                    #save binned magnitude/phase data in separate file\n",
    "                    with h5py.File(fdir+'Modes_{:}.h5'.format(u),'w') as hf:\n",
    "                        hf.create_dataset(\"F\",data=F)\n",
    "                        hf.create_dataset(\"T\",data=Th)\n",
    "                else:\n",
    "                    print('File does not exist: {:}'.format(fname))\n",
    "                    \n",
    "            else:\n",
    "                print('{:} Already processed! Moving on...'.format(u))"
   ]
  }
 ],
 "metadata": {
  "kernelspec": {
   "display_name": "Python 2",
   "language": "python",
   "name": "python2"
  },
  "language_info": {
   "codemirror_mode": {
    "name": "ipython",
    "version": 2
   },
   "file_extension": ".py",
   "mimetype": "text/x-python",
   "name": "python",
   "nbconvert_exporter": "python",
   "pygments_lexer": "ipython2",
   "version": "2.7.12"
  }
 },
 "nbformat": 4,
 "nbformat_minor": 2
}

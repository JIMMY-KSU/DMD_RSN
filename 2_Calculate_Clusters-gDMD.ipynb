{
 "cells": [
  {
   "cell_type": "markdown",
   "metadata": {},
   "source": [
    "# Calculate DMD Mode Clusters (gDMD version)\n",
    "\n",
    "***\n",
    "\n",
    "This notebook should be run after calculating the DMD modes in the notebook `1_Calculate_DMD`. It hierarchically clusters DMD modes, assigns them into flat clusters, and plots the corresponding output modes.\n",
    "\n",
    "Note that there are two versions of this notebook: a **gDMD** and **sDMD** version. These notebooks are nearly identical except that their default parameters have been chosen to be more appropriate for each case."
   ]
  },
  {
   "cell_type": "code",
   "execution_count": 1,
   "metadata": {},
   "outputs": [
    {
     "name": "stdout",
     "output_type": "stream",
     "text": [
      "James Kunert-Graf \n",
      "last updated: 2018-04-25 \n",
      "\n",
      "CPython 2.7.12\n",
      "IPython 5.6.0\n",
      "\n",
      "os n\u0007\n",
      "h5py 2.7.0\n",
      "tqdm 4.11.2\n",
      "numpy 1.14.2\n",
      "matplotlib 2.0.2\n",
      "scipy 1.0.0\n",
      "\n",
      "compiler   : GCC 5.4.0 20160609\n",
      "system     : Linux\n",
      "release    : 4.4.0-119-generic\n",
      "machine    : x86_64\n",
      "processor  : x86_64\n",
      "CPU cores  : 12\n",
      "interpreter: 64bit\n",
      "Git hash   : 0be1fc485c9d84cbd56a683784f53454e09b00f1\n"
     ]
    },
    {
     "name": "stderr",
     "output_type": "stream",
     "text": [
      "/usr/local/lib/python2.7/dist-packages/h5py/__init__.py:34: FutureWarning: Conversion of the second argument of issubdtype from `float` to `np.floating` is deprecated. In future, it will be treated as `np.float64 == np.dtype(float).type`.\n",
      "  from ._conv import register_converters as _register_converters\n"
     ]
    }
   ],
   "source": [
    "%load_ext watermark\n",
    "%watermark -a \"James Kunert-Graf\" -d -v -m -p os,h5py,tqdm,numpy,matplotlib,scipy -g -u"
   ]
  },
  {
   "cell_type": "code",
   "execution_count": 2,
   "metadata": {},
   "outputs": [],
   "source": [
    "import os\n",
    "import h5py\n",
    "from tqdm import tqdm_notebook as tqdm\n",
    "import numpy as np\n",
    "import matplotlib as mpl\n",
    "import matplotlib.pyplot as plt\n",
    "import scipy.cluster.hierarchy as sch\n",
    "import scipy.spatial.distance as ssd\n",
    "\n",
    "from hcp_dmd_utils import flat2mat,mat2flat\n",
    "\n",
    "%matplotlib inline"
   ]
  },
  {
   "cell_type": "markdown",
   "metadata": {},
   "source": [
    "## Parameters and Filepaths\n",
    "\n",
    "***\n",
    "\n",
    "The cell below contains parameters for the execution of the algorithm, along with variables specifying which data to analyze\n",
    "\n",
    "**Parameters**\n",
    "\n",
    "-  *mthresh*: threshold on spatial continuity measure which filters out discontinuous modes before clustering\n",
    "-  *zthresh*: threshold on \n",
    "-  *min_clust_size*: clusters containing fewer than this number of modes are not kept for visualization\n",
    "-  *fclust_thresh*: threshold on flat clustering using `scipy.cluster.hierarchy.fcluster`\n",
    "\n",
    "**Filepath Information**\n",
    "\n",
    "The set of runs to analyze is identified using the same labels as were used in `1_Calculate_DMD`, which should be run first as this notebook relies on its saved output.\n",
    "-  *runlabel*: run label to analyze (e.g. REST1, REST2)\n",
    "-  *scandir*: scan direction to analyze (LR/RL)\n",
    "-  *nmodes*: choice of *nmodes* parameter used in DMD calculation (number of modes calculated in each window)\n",
    "-  *nframes*: choice of *nframes* parameter used in DMD calculation (window length, in frames)\n",
    "-  *ulist*: list of individuals to include in the clustering. For example:\n",
    "    -  **ulist=u120** is full gDMD as in the paper, clustering the modes from all 120 individuals\n",
    "    -  **ulist=u120[:10]** would run a smaller gDMD consisting of the first ten individuals\n",
    "    -  **ulist=[u120[0]]** would run sDMD on the first individual (clustering only modes from the single individual)"
   ]
  },
  {
   "cell_type": "code",
   "execution_count": 3,
   "metadata": {},
   "outputs": [],
   "source": [
    "##CLUSTERING PARAMETERS:\n",
    "mthresh=25\n",
    "zthresh=2.0\n",
    "min_clust_size=400\n",
    "fclust_thresh=0.955\n",
    "\n",
    "## SCAN TO CLUSTER\n",
    "runlabel='REST1'\n",
    "scandir='LR'\n",
    "nmodes=8\n",
    "nframes=32\n",
    "# Choose individuals to include in clustering:\n",
    "u120=np.genfromtxt('u120.txt').astype(int).astype(str)\n",
    "ulist=u120"
   ]
  },
  {
   "cell_type": "markdown",
   "metadata": {},
   "source": [
    "### Reference RSNs\n",
    "***\n",
    "We use reference RSNs from Gordon et al. (\"Generation and evaluation of a cortical area parcellation from resting-state correlations\", *Cerebral Cortex*, 26(1):288–303, 2016.). We load them here and convert them into a vector form where we can easily compare them against our average modes."
   ]
  },
  {
   "cell_type": "code",
   "execution_count": 4,
   "metadata": {},
   "outputs": [],
   "source": [
    "#load RSN masks and labels\n",
    "with h5py.File('RSN.h5','r') as hf:\n",
    "    RSNs=np.array(hf['RSNs'])\n",
    "    RSNlabels=np.array(hf['RSNlabels'])\n",
    "\n",
    "rsn=[]        \n",
    "for k in range(RSNs.shape[2]):\n",
    "    r=RSNs[:,:,k]\n",
    "    rsn.append(mat2flat(r))\n",
    "rsn=np.vstack(rsn)\n",
    "rsnNo=np.arange(RSNs.shape[2])\n",
    "rsnNo=np.delete(rsnNo,[0,7])\n",
    "rsn=rsn[rsnNo,:]\n",
    "rlabs=RSNlabels[rsnNo]"
   ]
  },
  {
   "cell_type": "markdown",
   "metadata": {},
   "source": [
    "## Calculate Clusters for DMD"
   ]
  },
  {
   "cell_type": "markdown",
   "metadata": {},
   "source": [
    "**Load DMD modes**:\n",
    "\n",
    "Load and collect DMD mode information for the scan and set of individuals identified above."
   ]
  },
  {
   "cell_type": "code",
   "execution_count": 5,
   "metadata": {},
   "outputs": [
    {
     "data": {
      "application/vnd.jupyter.widget-view+json": {
       "model_id": "fc07cd95d08c4cb8b918d27cfd2f9342",
       "version_major": 2,
       "version_minor": 0
      },
      "text/html": [
       "<p>Failed to display Jupyter Widget of type <code>HBox</code>.</p>\n",
       "<p>\n",
       "  If you're reading this message in the Jupyter Notebook or JupyterLab Notebook, it may mean\n",
       "  that the widgets JavaScript is still loading. If this message persists, it\n",
       "  likely means that the widgets JavaScript library is either not installed or\n",
       "  not enabled. See the <a href=\"https://ipywidgets.readthedocs.io/en/stable/user_install.html\">Jupyter\n",
       "  Widgets Documentation</a> for setup instructions.\n",
       "</p>\n",
       "<p>\n",
       "  If you're reading this message in another frontend (for example, a static\n",
       "  rendering on GitHub or <a href=\"https://nbviewer.jupyter.org/\">NBViewer</a>),\n",
       "  it may mean that your frontend doesn't currently support widgets.\n",
       "</p>\n"
      ],
      "text/plain": [
       "HBox(children=(IntProgress(value=0, max=120), HTML(value=u'')))"
      ]
     },
     "metadata": {},
     "output_type": "display_data"
    },
    {
     "name": "stdout",
     "output_type": "stream",
     "text": [
      "\n"
     ]
    }
   ],
   "source": [
    "try:\n",
    "    os.mkdir('./DMD_Clusters/')\n",
    "except:\n",
    "    pass\n",
    "try:\n",
    "    os.mkdir('./Figures/')\n",
    "except:\n",
    "    pass\n",
    "\n",
    "freq=[]\n",
    "power=[]\n",
    "F=[]\n",
    "ux=[]\n",
    "jx=[]\n",
    "jno=[]\n",
    "\n",
    "#LOAD WINDOWED DMD RESULTS\n",
    "rx=[]\n",
    "runNo=-1\n",
    "for uid,u in enumerate(tqdm(ulist)):\n",
    "    #print '{:}/{:}'.format(uid+1,len(ulist))\n",
    "    fdir='./DMD_results/nmodes{:}_nframes{:}_{:}_{:}/'.format(nmodes,nframes,runlabel,scandir)\n",
    "    try:\n",
    "        with h5py.File(fdir+'Modes_{:}.h5'.format(u),'r') as hf:\n",
    "            F.append(np.array(hf['F']))\n",
    "        with h5py.File(fdir+'{:}.h5'.format(u),'r') as hf:            \n",
    "            freq.append(np.array(hf['freq']))\n",
    "            power.append(np.array(hf['power']))\n",
    "            ux.append(np.array(hf['ux']))\n",
    "            jx.append(np.array(hf['jx']))\n",
    "            jno.append(np.array(hf['jno']))\n",
    "            runNo+=1\n",
    "            rx.append(runNo*np.ones(np.array(hf['jx']).shape))\n",
    "    except:\n",
    "        pass\n",
    "freq=np.hstack(freq)\n",
    "power=np.hstack(power)\n",
    "F=np.vstack(F)\n",
    "ux=np.hstack(ux);\n",
    "jx=np.hstack(jx)\n",
    "rx=np.hstack(rx)\n",
    "jno=np.hstack(jno)\n",
    "winNo=np.unique(np.array(['{:03.0f}{:03.0f}{:01.0f}'.format(ux[k],jx[k],rx[k]) for k in range(len(ux))]),return_inverse=True)[1]\n"
   ]
  },
  {
   "cell_type": "markdown",
   "metadata": {},
   "source": [
    "**Pre-clustering mode filtration**:\n",
    "\n",
    "Filter out modes which do not meet a certain standard of spatial continuity (threshold set above by parameter 'mthresh'). Then, filter out modes for which no pixel has a z-score above the threshold zthresh.\n",
    "\n",
    "We also calculate the 'overlap' array, which is the dot product between the DMD modes and the RSN masks. This gives a measure of how much of each DMD mode's power is concentrated inside of a particular reference RSN (roughly indicating how strongly a mode resembles a given RSN)."
   ]
  },
  {
   "cell_type": "code",
   "execution_count": 6,
   "metadata": {},
   "outputs": [],
   "source": [
    "#CALCULATE/THRESHOLD ON SPATIAL CONTINUITY\n",
    "Mflat=(F-np.mean(F,1)[:,None])/F.std(1)[:,None]\n",
    "mpro=[]\n",
    "for f in Mflat:\n",
    "    m=flat2mat(f>2.0).astype(float)\n",
    "    #mpro: product of masks with masks which have been shifted diagonally\n",
    "    mpro.append(np.sum(np.sum(m[1:,1:]*m[:-1,:-1],0),0))\n",
    "mpro=np.hstack(mpro) \n",
    "mwhere=mpro>mthresh\n",
    "\n",
    "#convert modes to zscores and threshold to create masks to cluster\n",
    "Fz=F[mwhere,:]\n",
    "Fz=(Fz-np.mean(Fz,1)[:,None])/np.std(Fz,1)[:,None]\n",
    "Fn=(Fz>zthresh).astype(float)\n",
    "\n",
    "#calculate overlap between mode masks and rsn masks\n",
    "overlap=rsn.dot(Mflat.T)"
   ]
  },
  {
   "cell_type": "markdown",
   "metadata": {},
   "source": [
    "**Clustering**:\n",
    "\n",
    "Hierarchically cluster the modes using `scipy.cluster.hierarchy`. Heuristically, hierarchically clustering upon the average correlation works well, though this could be adjusted below.\n",
    "\n",
    "Flat clusters are then formed based upon the \"fclust_thresh\" parameter defined above. \n",
    "\n"
   ]
  },
  {
   "cell_type": "code",
   "execution_count": 7,
   "metadata": {},
   "outputs": [],
   "source": [
    "#cluster modes based upon average correlation between groups\n",
    "method='average';metric='correlation';\n",
    "Z=sch.linkage(Fn, method, metric)\n",
    "ix=sch.dendrogram(Z,no_plot=True)['leaves']\n",
    "#form flat clusters\n",
    "cgroups=sch.fcluster(Z,fclust_thresh,'distance')[ix]\n",
    "cgroups=cgroups.astype(float)\n",
    "\n",
    "#count the number of modes belonging to each cluster, and remove clusters with less than 'min_clust_size' members\n",
    "cun,count=np.unique(cgroups,return_counts=True)\n",
    "for k,c in enumerate(cun):\n",
    "    if count[k]<min_clust_size:\n",
    "        cgroups[cgroups==c]=-1\n",
    "\n",
    "cgroups=np.unique(cgroups,return_inverse=True)[1].astype(float)\n",
    "cgroups[cgroups==0]=np.nan\n",
    "cgroups+=-1\n",
    "\n",
    "#cif = \n",
    "cif=np.isfinite(cgroups)\n",
    "cuni=np.unique(cgroups[cif])\n",
    "\n"
   ]
  },
  {
   "cell_type": "code",
   "execution_count": 8,
   "metadata": {},
   "outputs": [
    {
     "name": "stdout",
     "output_type": "stream",
     "text": [
      "9 clusters\n"
     ]
    }
   ],
   "source": [
    "#get identified clusters in terms of original indices\n",
    "#so that they can be easily reloaded in the future...\n",
    "outfile='./DMD_Clusters/{:}_{:}_{:}m_{:}f_{:}clusters2.h5'.format(runlabel,scandir,nmodes,nframes,len(cuni))\n",
    "indices=np.arange(len(jx))[mwhere][ix]\n",
    "cluster_indices=[]\n",
    "for c in cuni:\n",
    "    cix=indices[cgroups==c]\n",
    "    cluster_indices.append(cix)\n",
    "print '{:} clusters'.format(len(cuni))\n",
    "\n",
    "#sort the RSN overlap array by hierarchical clustering order\n",
    "Ou=overlap[:,mwhere][:,ix][:,cif]\n",
    "Ou=(Ou-Ou.mean(1)[:,None])/Ou.std(1)[:,None]\n"
   ]
  },
  {
   "cell_type": "code",
   "execution_count": null,
   "metadata": {},
   "outputs": [],
   "source": [
    "import skimage.transform as skit\n",
    "#'scale_factor' is a factor to scale down plotted image size -- use for many thousands of modes\n",
    "scale_factor=10\n",
    "Fsub=skit.downscale_local_mean(Fn[ix][cif],(scale_factor,1))\n",
    "C=ssd.cdist(Fsub,Fsub,metric=metric)\n",
    "C=np.abs(1-C);\n",
    "np.fill_diagonal(C,0)"
   ]
  },
  {
   "cell_type": "markdown",
   "metadata": {},
   "source": [
    "### Figure\n",
    "***\n",
    "Plot a figure showing the hierarchically clustered correlation matrix, the overlap of each mode with canonical RSNs, the automatically identified flat clusters, and the average DMD mode within each cluster:"
   ]
  },
  {
   "cell_type": "code",
   "execution_count": null,
   "metadata": {},
   "outputs": [],
   "source": [
    "plt.figure(figsize=(16,9))\n",
    "\n",
    "a1=plt.subplot2grid((6,1),(0,0))    \n",
    "plt.imshow(C,vmin=C.mean(),vmax=C.mean()+2.0*C.std())\n",
    "yl=plt.ylim()\n",
    "plt.ylim(yl)\n",
    "plt.xticks([])\n",
    "plt.ylabel('DMD Mode')\n",
    "\n",
    "a2=plt.subplot2grid((6,1),(1,0))\n",
    "vmin=Ou.mean();vmax=Ou.mean()+2.0*Ou.std()\n",
    "plt.imshow(skit.downscale_local_mean(Ou,(1,scale_factor)),aspect='auto',vmin=vmin,vmax=vmax)\n",
    "plt.yticks(np.arange(len(rlabs)),rlabs,rotation=0)\n",
    "a2.tick_params(pad=1,length=2)\n",
    "xl=plt.xlim()\n",
    "plt.xlim(xl)\n",
    "plt.xlabel('DMD Mode')\n",
    "\n",
    "\n",
    "a4=plt.subplot2grid((6,1),(2,0))\n",
    "cbig=np.ones(cgroups.shape)*np.nan\n",
    "ck=-1\n",
    "for c in cuni:\n",
    "    if np.sum(cgroups==c)>=min_clust_size:\n",
    "        ck+=1\n",
    "        cbig[cgroups==c]=ck\n",
    "plt.imshow(cbig[cif][:,None]%12,cmap='Paired',aspect='auto',vmin=0,vmax=12)\n",
    "plt.xticks([]);plt.yticks([])\n",
    "\n",
    "a5=plt.subplot2grid((6,1),(3,0),frameon=False)\n",
    "lplot=np.where(cbig[cif][1:]!=cbig[cif][:-1])[0].astype(float)/(C.shape[0]*scale_factor)\n",
    "cut=0.95\n",
    "for lp in lplot:\n",
    "    plt.plot([0,cut],[lp]*2,':',c=[1,1,1],lw=1.1)\n",
    "    plt.plot([cut,1],[lp]*2,':',c=[0,0,0],lw=1.1)\n",
    "plt.xlim([0,1])\n",
    "plt.ylim([0,1])\n",
    "plt.xticks([])\n",
    "plt.yticks([])\n",
    "a5.invert_yaxis()\n",
    "\n",
    "a6=plt.subplot2grid((6,1),(4,0),frameon=False)\n",
    "lplot=np.where(cbig[cif][1:]!=cbig[cif][:-1])[0].astype(float)/(C.shape[0]*scale_factor)\n",
    "cut=0.95\n",
    "for lp in lplot:\n",
    "    plt.plot([lp]*2,[0,1],':',c=[1,1,1],lw=1.1)\n",
    "plt.xlim([0,1])\n",
    "plt.ylim([0,1])\n",
    "plt.xticks([])\n",
    "plt.yticks([])\n",
    "\n",
    "x1=0.0578\n",
    "y1=0.3\n",
    "y2=0.08\n",
    "w1=0.364\n",
    "a1.set_position([0.00,y1,0.48,0.65])\n",
    "a2.set_position([x1,y2,w1,0.21])    \n",
    "a4.set_position([0.426,y1,0.025*0.8,0.65])\n",
    "a5.set_position([x1,y1,w1+0.025,0.65])\n",
    "a6.set_position([x1,y2,w1,0.87])\n",
    "glist=np.unique(cgroups[np.isnan(cgroups)==False]).astype(int)\n",
    "\n",
    "#%\n",
    "cf=[]\n",
    "for gid in glist:\n",
    "    cf.append(np.mean(np.absolute(freq[mwhere][ix][cgroups==gid])))\n",
    "cf=np.array(cf)\n",
    "\n",
    "\n",
    "glist_big=[]\n",
    "for gid in glist:\n",
    "    if np.sum(cgroups==gid)>=min_clust_size:\n",
    "        glist_big.append(gid)\n",
    "glist_big=np.array(glist_big)\n",
    "DMN=[]\n",
    "for gk,gid in enumerate(glist_big):\n",
    "    a6=plt.axes([0.45+0.275*(gk%2),0.714-0.15*np.floor(gk/2),0.26,0.35])\n",
    "    colors=mpl.cm.Paired(range(12))\n",
    "    a6.set_facecolor(colors[gk%12])\n",
    "    dmn=np.mean(F[mwhere][ix][cgroups==gid],0)\n",
    "    vmin=dmn.mean()+0.0*dmn.std();vmax=dmn.mean()+2.0*dmn.std()\n",
    "    DMN.append(dmn)\n",
    "    D=flat2mat(dmn)\n",
    "    D[D==0]=np.nan\n",
    "    D=np.concatenate((D[:40],D[40:]),1)\n",
    "    cm=mpl.cm.viridis\n",
    "    cm.set_bad([1,1,1,0])\n",
    "    plt.imshow(D,vmin=vmin,vmax=vmax,cmap=cm)\n",
    "    plt.xticks([]);plt.yticks([])\n",
    "\n",
    "    cf=freq[mwhere][ix][cgroups==gid]\n",
    "    lum=np.sum(np.array([0.299,0.587,0.114])*colors[gid%12][:3])\n",
    "    if lum>0.65:\n",
    "        tcolor=[0,0,0]\n",
    "    else:\n",
    "        tcolor=[1,1,1]\n",
    "    plt.text(159,40,'{:0.2f} +/- {:0.2f} Hz'.format(cf.mean(),cf.std()),color=tcolor,ha='right',va='bottom')\n",
    "\n",
    "DMN=np.vstack(DMN)\n",
    "plt.savefig('./Figures/fig2b_{:}_{:}.svg'.format(runlabel,scandir))"
   ]
  },
  {
   "cell_type": "markdown",
   "metadata": {},
   "source": [
    "### Output\n",
    "***\n",
    "Save the indices of the modes which constitute each of the plotted clusters, and the average mode within each cluster."
   ]
  },
  {
   "cell_type": "code",
   "execution_count": null,
   "metadata": {},
   "outputs": [],
   "source": [
    "with h5py.File(outfile,'w') as hf:\n",
    "    dt = h5py.special_dtype(vlen=np.dtype('int32'))\n",
    "    hf.create_dataset('clusters',data=np.array(cluster_indices),dtype=dt)\n",
    "    hf.create_dataset('modes',data=DMN)"
   ]
  }
 ],
 "metadata": {
  "kernelspec": {
   "display_name": "Python 2",
   "language": "python",
   "name": "python2"
  },
  "language_info": {
   "codemirror_mode": {
    "name": "ipython",
    "version": 2
   },
   "file_extension": ".py",
   "mimetype": "text/x-python",
   "name": "python",
   "nbconvert_exporter": "python",
   "pygments_lexer": "ipython2",
   "version": "2.7.12"
  }
 },
 "nbformat": 4,
 "nbformat_minor": 2
}
